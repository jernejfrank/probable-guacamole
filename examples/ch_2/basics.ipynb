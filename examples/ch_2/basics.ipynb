{
  "cells": [
    {
      "cell_type": "code",
      "execution_count": 1,
      "metadata": {},
      "outputs": [
        {
          "name": "stderr",
          "output_type": "stream",
          "text": [
            "/Users/jernejfrank/Documents/code/probable-guacamole/.venv/lib/python3.12/site-packages/tqdm/auto.py:21: TqdmWarning: IProgress not found. Please update jupyter and ipywidgets. See https://ipywidgets.readthedocs.io/en/stable/user_install.html\n",
            "  from .autonotebook import tqdm as notebook_tqdm\n"
          ]
        }
      ],
      "source": [
        "import duckdb\n",
        "import lancedb\n",
        "import numpy as np\n",
        "import pandas as pd\n",
        "# pd.options.plotting.backend = \"plotly\""
      ]
    },
    {
      "cell_type": "markdown",
      "metadata": {},
      "source": [
        "# Loading two ways"
      ]
    },
    {
      "cell_type": "code",
      "execution_count": 2,
      "metadata": {},
      "outputs": [
        {
          "data": {
            "text/html": [
              "<div>\n",
              "<style scoped>\n",
              "    .dataframe tbody tr th:only-of-type {\n",
              "        vertical-align: middle;\n",
              "    }\n",
              "\n",
              "    .dataframe tbody tr th {\n",
              "        vertical-align: top;\n",
              "    }\n",
              "\n",
              "    .dataframe thead th {\n",
              "        text-align: right;\n",
              "    }\n",
              "</style>\n",
              "<table border=\"1\" class=\"dataframe\">\n",
              "  <thead>\n",
              "    <tr style=\"text-align: right;\">\n",
              "      <th></th>\n",
              "      <th>mpg</th>\n",
              "      <th>cylinders</th>\n",
              "      <th>displacement</th>\n",
              "      <th>horsepower</th>\n",
              "      <th>weight</th>\n",
              "      <th>acceleration</th>\n",
              "      <th>year</th>\n",
              "      <th>origin</th>\n",
              "      <th>name</th>\n",
              "    </tr>\n",
              "  </thead>\n",
              "  <tbody>\n",
              "    <tr>\n",
              "      <th>0</th>\n",
              "      <td>18.0</td>\n",
              "      <td>8</td>\n",
              "      <td>307.0</td>\n",
              "      <td>130</td>\n",
              "      <td>3504</td>\n",
              "      <td>12.0</td>\n",
              "      <td>70</td>\n",
              "      <td>1</td>\n",
              "      <td>chevrolet chevelle malibu</td>\n",
              "    </tr>\n",
              "    <tr>\n",
              "      <th>1</th>\n",
              "      <td>15.0</td>\n",
              "      <td>8</td>\n",
              "      <td>350.0</td>\n",
              "      <td>165</td>\n",
              "      <td>3693</td>\n",
              "      <td>11.5</td>\n",
              "      <td>70</td>\n",
              "      <td>1</td>\n",
              "      <td>buick skylark 320</td>\n",
              "    </tr>\n",
              "    <tr>\n",
              "      <th>2</th>\n",
              "      <td>18.0</td>\n",
              "      <td>8</td>\n",
              "      <td>318.0</td>\n",
              "      <td>150</td>\n",
              "      <td>3436</td>\n",
              "      <td>11.0</td>\n",
              "      <td>70</td>\n",
              "      <td>1</td>\n",
              "      <td>plymouth satellite</td>\n",
              "    </tr>\n",
              "    <tr>\n",
              "      <th>3</th>\n",
              "      <td>16.0</td>\n",
              "      <td>8</td>\n",
              "      <td>304.0</td>\n",
              "      <td>150</td>\n",
              "      <td>3433</td>\n",
              "      <td>12.0</td>\n",
              "      <td>70</td>\n",
              "      <td>1</td>\n",
              "      <td>amc rebel sst</td>\n",
              "    </tr>\n",
              "    <tr>\n",
              "      <th>4</th>\n",
              "      <td>17.0</td>\n",
              "      <td>8</td>\n",
              "      <td>302.0</td>\n",
              "      <td>140</td>\n",
              "      <td>3449</td>\n",
              "      <td>10.5</td>\n",
              "      <td>70</td>\n",
              "      <td>1</td>\n",
              "      <td>ford torino</td>\n",
              "    </tr>\n",
              "    <tr>\n",
              "      <th>...</th>\n",
              "      <td>...</td>\n",
              "      <td>...</td>\n",
              "      <td>...</td>\n",
              "      <td>...</td>\n",
              "      <td>...</td>\n",
              "      <td>...</td>\n",
              "      <td>...</td>\n",
              "      <td>...</td>\n",
              "      <td>...</td>\n",
              "    </tr>\n",
              "    <tr>\n",
              "      <th>392</th>\n",
              "      <td>27.0</td>\n",
              "      <td>4</td>\n",
              "      <td>140.0</td>\n",
              "      <td>86</td>\n",
              "      <td>2790</td>\n",
              "      <td>15.6</td>\n",
              "      <td>82</td>\n",
              "      <td>1</td>\n",
              "      <td>ford mustang gl</td>\n",
              "    </tr>\n",
              "    <tr>\n",
              "      <th>393</th>\n",
              "      <td>44.0</td>\n",
              "      <td>4</td>\n",
              "      <td>97.0</td>\n",
              "      <td>52</td>\n",
              "      <td>2130</td>\n",
              "      <td>24.6</td>\n",
              "      <td>82</td>\n",
              "      <td>2</td>\n",
              "      <td>vw pickup</td>\n",
              "    </tr>\n",
              "    <tr>\n",
              "      <th>394</th>\n",
              "      <td>32.0</td>\n",
              "      <td>4</td>\n",
              "      <td>135.0</td>\n",
              "      <td>84</td>\n",
              "      <td>2295</td>\n",
              "      <td>11.6</td>\n",
              "      <td>82</td>\n",
              "      <td>1</td>\n",
              "      <td>dodge rampage</td>\n",
              "    </tr>\n",
              "    <tr>\n",
              "      <th>395</th>\n",
              "      <td>28.0</td>\n",
              "      <td>4</td>\n",
              "      <td>120.0</td>\n",
              "      <td>79</td>\n",
              "      <td>2625</td>\n",
              "      <td>18.6</td>\n",
              "      <td>82</td>\n",
              "      <td>1</td>\n",
              "      <td>ford ranger</td>\n",
              "    </tr>\n",
              "    <tr>\n",
              "      <th>396</th>\n",
              "      <td>31.0</td>\n",
              "      <td>4</td>\n",
              "      <td>119.0</td>\n",
              "      <td>82</td>\n",
              "      <td>2720</td>\n",
              "      <td>19.4</td>\n",
              "      <td>82</td>\n",
              "      <td>1</td>\n",
              "      <td>chevy s-10</td>\n",
              "    </tr>\n",
              "  </tbody>\n",
              "</table>\n",
              "<p>397 rows \u00d7 9 columns</p>\n",
              "</div>"
            ],
            "text/plain": [
              "      mpg  cylinders  displacement horsepower  weight  acceleration  year  \\\n",
              "0    18.0          8         307.0        130    3504          12.0    70   \n",
              "1    15.0          8         350.0        165    3693          11.5    70   \n",
              "2    18.0          8         318.0        150    3436          11.0    70   \n",
              "3    16.0          8         304.0        150    3433          12.0    70   \n",
              "4    17.0          8         302.0        140    3449          10.5    70   \n",
              "..    ...        ...           ...        ...     ...           ...   ...   \n",
              "392  27.0          4         140.0         86    2790          15.6    82   \n",
              "393  44.0          4          97.0         52    2130          24.6    82   \n",
              "394  32.0          4         135.0         84    2295          11.6    82   \n",
              "395  28.0          4         120.0         79    2625          18.6    82   \n",
              "396  31.0          4         119.0         82    2720          19.4    82   \n",
              "\n",
              "     origin                       name  \n",
              "0         1  chevrolet chevelle malibu  \n",
              "1         1          buick skylark 320  \n",
              "2         1         plymouth satellite  \n",
              "3         1              amc rebel sst  \n",
              "4         1                ford torino  \n",
              "..      ...                        ...  \n",
              "392       1            ford mustang gl  \n",
              "393       2                  vw pickup  \n",
              "394       1              dodge rampage  \n",
              "395       1                ford ranger  \n",
              "396       1                 chevy s-10  \n",
              "\n",
              "[397 rows x 9 columns]"
            ]
          },
          "execution_count": 2,
          "metadata": {},
          "output_type": "execute_result"
        }
      ],
      "source": [
        "df = pd.read_csv(\n",
        "    \"/Users/jernejfrank/Documents/code/probable-guacamole/datasets/Auto.csv\"\n",
        ")\n",
        "df"
      ]
    },
    {
      "cell_type": "code",
      "execution_count": 3,
      "metadata": {},
      "outputs": [
        {
          "name": "stderr",
          "output_type": "stream",
          "text": [
            "/var/folders/_5/qn4m8hy526b4gsrvq_fc20x00000gn/T/ipykernel_80948/3336216678.py:1: FutureWarning: The 'delim_whitespace' keyword in pd.read_csv is deprecated and will be removed in a future version. Use ``sep='\\s+'`` instead\n",
            "  df_from_data = pd.read_csv(\n"
          ]
        },
        {
          "data": {
            "text/html": [
              "<div>\n",
              "<style scoped>\n",
              "    .dataframe tbody tr th:only-of-type {\n",
              "        vertical-align: middle;\n",
              "    }\n",
              "\n",
              "    .dataframe tbody tr th {\n",
              "        vertical-align: top;\n",
              "    }\n",
              "\n",
              "    .dataframe thead th {\n",
              "        text-align: right;\n",
              "    }\n",
              "</style>\n",
              "<table border=\"1\" class=\"dataframe\">\n",
              "  <thead>\n",
              "    <tr style=\"text-align: right;\">\n",
              "      <th></th>\n",
              "      <th>mpg</th>\n",
              "      <th>cylinders</th>\n",
              "      <th>displacement</th>\n",
              "      <th>horsepower</th>\n",
              "      <th>weight</th>\n",
              "      <th>acceleration</th>\n",
              "      <th>year</th>\n",
              "      <th>origin</th>\n",
              "      <th>name</th>\n",
              "    </tr>\n",
              "  </thead>\n",
              "  <tbody>\n",
              "    <tr>\n",
              "      <th>0</th>\n",
              "      <td>18.0</td>\n",
              "      <td>8</td>\n",
              "      <td>307.0</td>\n",
              "      <td>130.0</td>\n",
              "      <td>3504.0</td>\n",
              "      <td>12.0</td>\n",
              "      <td>70</td>\n",
              "      <td>1</td>\n",
              "      <td>chevrolet chevelle malibu</td>\n",
              "    </tr>\n",
              "    <tr>\n",
              "      <th>1</th>\n",
              "      <td>15.0</td>\n",
              "      <td>8</td>\n",
              "      <td>350.0</td>\n",
              "      <td>165.0</td>\n",
              "      <td>3693.0</td>\n",
              "      <td>11.5</td>\n",
              "      <td>70</td>\n",
              "      <td>1</td>\n",
              "      <td>buick skylark 320</td>\n",
              "    </tr>\n",
              "    <tr>\n",
              "      <th>2</th>\n",
              "      <td>18.0</td>\n",
              "      <td>8</td>\n",
              "      <td>318.0</td>\n",
              "      <td>150.0</td>\n",
              "      <td>3436.0</td>\n",
              "      <td>11.0</td>\n",
              "      <td>70</td>\n",
              "      <td>1</td>\n",
              "      <td>plymouth satellite</td>\n",
              "    </tr>\n",
              "    <tr>\n",
              "      <th>3</th>\n",
              "      <td>16.0</td>\n",
              "      <td>8</td>\n",
              "      <td>304.0</td>\n",
              "      <td>150.0</td>\n",
              "      <td>3433.0</td>\n",
              "      <td>12.0</td>\n",
              "      <td>70</td>\n",
              "      <td>1</td>\n",
              "      <td>amc rebel sst</td>\n",
              "    </tr>\n",
              "    <tr>\n",
              "      <th>4</th>\n",
              "      <td>17.0</td>\n",
              "      <td>8</td>\n",
              "      <td>302.0</td>\n",
              "      <td>140.0</td>\n",
              "      <td>3449.0</td>\n",
              "      <td>10.5</td>\n",
              "      <td>70</td>\n",
              "      <td>1</td>\n",
              "      <td>ford torino</td>\n",
              "    </tr>\n",
              "    <tr>\n",
              "      <th>...</th>\n",
              "      <td>...</td>\n",
              "      <td>...</td>\n",
              "      <td>...</td>\n",
              "      <td>...</td>\n",
              "      <td>...</td>\n",
              "      <td>...</td>\n",
              "      <td>...</td>\n",
              "      <td>...</td>\n",
              "      <td>...</td>\n",
              "    </tr>\n",
              "    <tr>\n",
              "      <th>392</th>\n",
              "      <td>27.0</td>\n",
              "      <td>4</td>\n",
              "      <td>140.0</td>\n",
              "      <td>86.00</td>\n",
              "      <td>2790.0</td>\n",
              "      <td>15.6</td>\n",
              "      <td>82</td>\n",
              "      <td>1</td>\n",
              "      <td>ford mustang gl</td>\n",
              "    </tr>\n",
              "    <tr>\n",
              "      <th>393</th>\n",
              "      <td>44.0</td>\n",
              "      <td>4</td>\n",
              "      <td>97.0</td>\n",
              "      <td>52.00</td>\n",
              "      <td>2130.0</td>\n",
              "      <td>24.6</td>\n",
              "      <td>82</td>\n",
              "      <td>2</td>\n",
              "      <td>vw pickup</td>\n",
              "    </tr>\n",
              "    <tr>\n",
              "      <th>394</th>\n",
              "      <td>32.0</td>\n",
              "      <td>4</td>\n",
              "      <td>135.0</td>\n",
              "      <td>84.00</td>\n",
              "      <td>2295.0</td>\n",
              "      <td>11.6</td>\n",
              "      <td>82</td>\n",
              "      <td>1</td>\n",
              "      <td>dodge rampage</td>\n",
              "    </tr>\n",
              "    <tr>\n",
              "      <th>395</th>\n",
              "      <td>28.0</td>\n",
              "      <td>4</td>\n",
              "      <td>120.0</td>\n",
              "      <td>79.00</td>\n",
              "      <td>2625.0</td>\n",
              "      <td>18.6</td>\n",
              "      <td>82</td>\n",
              "      <td>1</td>\n",
              "      <td>ford ranger</td>\n",
              "    </tr>\n",
              "    <tr>\n",
              "      <th>396</th>\n",
              "      <td>31.0</td>\n",
              "      <td>4</td>\n",
              "      <td>119.0</td>\n",
              "      <td>82.00</td>\n",
              "      <td>2720.0</td>\n",
              "      <td>19.4</td>\n",
              "      <td>82</td>\n",
              "      <td>1</td>\n",
              "      <td>chevy s-10</td>\n",
              "    </tr>\n",
              "  </tbody>\n",
              "</table>\n",
              "<p>397 rows \u00d7 9 columns</p>\n",
              "</div>"
            ],
            "text/plain": [
              "      mpg  cylinders  displacement horsepower  weight  acceleration  year  \\\n",
              "0    18.0          8         307.0      130.0  3504.0          12.0    70   \n",
              "1    15.0          8         350.0      165.0  3693.0          11.5    70   \n",
              "2    18.0          8         318.0      150.0  3436.0          11.0    70   \n",
              "3    16.0          8         304.0      150.0  3433.0          12.0    70   \n",
              "4    17.0          8         302.0      140.0  3449.0          10.5    70   \n",
              "..    ...        ...           ...        ...     ...           ...   ...   \n",
              "392  27.0          4         140.0      86.00  2790.0          15.6    82   \n",
              "393  44.0          4          97.0      52.00  2130.0          24.6    82   \n",
              "394  32.0          4         135.0      84.00  2295.0          11.6    82   \n",
              "395  28.0          4         120.0      79.00  2625.0          18.6    82   \n",
              "396  31.0          4         119.0      82.00  2720.0          19.4    82   \n",
              "\n",
              "     origin                       name  \n",
              "0         1  chevrolet chevelle malibu  \n",
              "1         1          buick skylark 320  \n",
              "2         1         plymouth satellite  \n",
              "3         1              amc rebel sst  \n",
              "4         1                ford torino  \n",
              "..      ...                        ...  \n",
              "392       1            ford mustang gl  \n",
              "393       2                  vw pickup  \n",
              "394       1              dodge rampage  \n",
              "395       1                ford ranger  \n",
              "396       1                 chevy s-10  \n",
              "\n",
              "[397 rows x 9 columns]"
            ]
          },
          "execution_count": 3,
          "metadata": {},
          "output_type": "execute_result"
        }
      ],
      "source": [
        "df_from_data = pd.read_csv(\n",
        "    \"/Users/jernejfrank/Documents/code/probable-guacamole/datasets/Auto.data\",\n",
        "    delim_whitespace=True,\n",
        ")\n",
        "df_from_data"
      ]
    },
    {
      "cell_type": "markdown",
      "metadata": {},
      "source": [
        "# Horsepower - Datacleaning "
      ]
    },
    {
      "cell_type": "code",
      "execution_count": 4,
      "metadata": {},
      "outputs": [
        {
          "data": {
            "text/plain": [
              "0      130\n",
              "1      165\n",
              "2      150\n",
              "3      150\n",
              "4      140\n",
              "      ... \n",
              "392     86\n",
              "393     52\n",
              "394     84\n",
              "395     79\n",
              "396     82\n",
              "Name: horsepower, Length: 397, dtype: object"
            ]
          },
          "execution_count": 4,
          "metadata": {},
          "output_type": "execute_result"
        }
      ],
      "source": [
        "df[\"horsepower\"]"
      ]
    },
    {
      "cell_type": "code",
      "execution_count": 5,
      "metadata": {},
      "outputs": [
        {
          "data": {
            "text/plain": [
              "array(['100', '102', '103', '105', '107', '108', '110', '112', '113',\n",
              "       '115', '116', '120', '122', '125', '129', '130', '132', '133',\n",
              "       '135', '137', '138', '139', '140', '142', '145', '148', '149',\n",
              "       '150', '152', '153', '155', '158', '160', '165', '167', '170',\n",
              "       '175', '180', '190', '193', '198', '200', '208', '210', '215',\n",
              "       '220', '225', '230', '46', '48', '49', '52', '53', '54', '58',\n",
              "       '60', '61', '62', '63', '64', '65', '66', '67', '68', '69', '70',\n",
              "       '71', '72', '74', '75', '76', '77', '78', '79', '80', '81', '82',\n",
              "       '83', '84', '85', '86', '87', '88', '89', '90', '91', '92', '93',\n",
              "       '94', '95', '96', '97', '98', '?'], dtype=object)"
            ]
          },
          "execution_count": 5,
          "metadata": {},
          "output_type": "execute_result"
        }
      ],
      "source": [
        "np.unique(df[\"horsepower\"])"
      ]
    },
    {
      "cell_type": "code",
      "execution_count": 6,
      "metadata": {},
      "outputs": [
        {
          "name": "stderr",
          "output_type": "stream",
          "text": [
            "/var/folders/_5/qn4m8hy526b4gsrvq_fc20x00000gn/T/ipykernel_80948/1066119501.py:1: FutureWarning: The 'delim_whitespace' keyword in pd.read_csv is deprecated and will be removed in a future version. Use ``sep='\\s+'`` instead\n",
            "  df = pd.read_csv(\n"
          ]
        },
        {
          "data": {
            "text/html": [
              "<div>\n",
              "<style scoped>\n",
              "    .dataframe tbody tr th:only-of-type {\n",
              "        vertical-align: middle;\n",
              "    }\n",
              "\n",
              "    .dataframe tbody tr th {\n",
              "        vertical-align: top;\n",
              "    }\n",
              "\n",
              "    .dataframe thead th {\n",
              "        text-align: right;\n",
              "    }\n",
              "</style>\n",
              "<table border=\"1\" class=\"dataframe\">\n",
              "  <thead>\n",
              "    <tr style=\"text-align: right;\">\n",
              "      <th></th>\n",
              "      <th>mpg</th>\n",
              "      <th>cylinders</th>\n",
              "      <th>displacement</th>\n",
              "      <th>horsepower</th>\n",
              "      <th>weight</th>\n",
              "      <th>acceleration</th>\n",
              "      <th>year</th>\n",
              "      <th>origin</th>\n",
              "      <th>name</th>\n",
              "    </tr>\n",
              "  </thead>\n",
              "  <tbody>\n",
              "    <tr>\n",
              "      <th>0</th>\n",
              "      <td>18.0</td>\n",
              "      <td>8</td>\n",
              "      <td>307.0</td>\n",
              "      <td>130.0</td>\n",
              "      <td>3504.0</td>\n",
              "      <td>12.0</td>\n",
              "      <td>70</td>\n",
              "      <td>1</td>\n",
              "      <td>chevrolet chevelle malibu</td>\n",
              "    </tr>\n",
              "    <tr>\n",
              "      <th>1</th>\n",
              "      <td>15.0</td>\n",
              "      <td>8</td>\n",
              "      <td>350.0</td>\n",
              "      <td>165.0</td>\n",
              "      <td>3693.0</td>\n",
              "      <td>11.5</td>\n",
              "      <td>70</td>\n",
              "      <td>1</td>\n",
              "      <td>buick skylark 320</td>\n",
              "    </tr>\n",
              "    <tr>\n",
              "      <th>2</th>\n",
              "      <td>18.0</td>\n",
              "      <td>8</td>\n",
              "      <td>318.0</td>\n",
              "      <td>150.0</td>\n",
              "      <td>3436.0</td>\n",
              "      <td>11.0</td>\n",
              "      <td>70</td>\n",
              "      <td>1</td>\n",
              "      <td>plymouth satellite</td>\n",
              "    </tr>\n",
              "    <tr>\n",
              "      <th>3</th>\n",
              "      <td>16.0</td>\n",
              "      <td>8</td>\n",
              "      <td>304.0</td>\n",
              "      <td>150.0</td>\n",
              "      <td>3433.0</td>\n",
              "      <td>12.0</td>\n",
              "      <td>70</td>\n",
              "      <td>1</td>\n",
              "      <td>amc rebel sst</td>\n",
              "    </tr>\n",
              "    <tr>\n",
              "      <th>4</th>\n",
              "      <td>17.0</td>\n",
              "      <td>8</td>\n",
              "      <td>302.0</td>\n",
              "      <td>140.0</td>\n",
              "      <td>3449.0</td>\n",
              "      <td>10.5</td>\n",
              "      <td>70</td>\n",
              "      <td>1</td>\n",
              "      <td>ford torino</td>\n",
              "    </tr>\n",
              "    <tr>\n",
              "      <th>...</th>\n",
              "      <td>...</td>\n",
              "      <td>...</td>\n",
              "      <td>...</td>\n",
              "      <td>...</td>\n",
              "      <td>...</td>\n",
              "      <td>...</td>\n",
              "      <td>...</td>\n",
              "      <td>...</td>\n",
              "      <td>...</td>\n",
              "    </tr>\n",
              "    <tr>\n",
              "      <th>392</th>\n",
              "      <td>27.0</td>\n",
              "      <td>4</td>\n",
              "      <td>140.0</td>\n",
              "      <td>86.0</td>\n",
              "      <td>2790.0</td>\n",
              "      <td>15.6</td>\n",
              "      <td>82</td>\n",
              "      <td>1</td>\n",
              "      <td>ford mustang gl</td>\n",
              "    </tr>\n",
              "    <tr>\n",
              "      <th>393</th>\n",
              "      <td>44.0</td>\n",
              "      <td>4</td>\n",
              "      <td>97.0</td>\n",
              "      <td>52.0</td>\n",
              "      <td>2130.0</td>\n",
              "      <td>24.6</td>\n",
              "      <td>82</td>\n",
              "      <td>2</td>\n",
              "      <td>vw pickup</td>\n",
              "    </tr>\n",
              "    <tr>\n",
              "      <th>394</th>\n",
              "      <td>32.0</td>\n",
              "      <td>4</td>\n",
              "      <td>135.0</td>\n",
              "      <td>84.0</td>\n",
              "      <td>2295.0</td>\n",
              "      <td>11.6</td>\n",
              "      <td>82</td>\n",
              "      <td>1</td>\n",
              "      <td>dodge rampage</td>\n",
              "    </tr>\n",
              "    <tr>\n",
              "      <th>395</th>\n",
              "      <td>28.0</td>\n",
              "      <td>4</td>\n",
              "      <td>120.0</td>\n",
              "      <td>79.0</td>\n",
              "      <td>2625.0</td>\n",
              "      <td>18.6</td>\n",
              "      <td>82</td>\n",
              "      <td>1</td>\n",
              "      <td>ford ranger</td>\n",
              "    </tr>\n",
              "    <tr>\n",
              "      <th>396</th>\n",
              "      <td>31.0</td>\n",
              "      <td>4</td>\n",
              "      <td>119.0</td>\n",
              "      <td>82.0</td>\n",
              "      <td>2720.0</td>\n",
              "      <td>19.4</td>\n",
              "      <td>82</td>\n",
              "      <td>1</td>\n",
              "      <td>chevy s-10</td>\n",
              "    </tr>\n",
              "  </tbody>\n",
              "</table>\n",
              "<p>397 rows \u00d7 9 columns</p>\n",
              "</div>"
            ],
            "text/plain": [
              "      mpg  cylinders  displacement  horsepower  weight  acceleration  year  \\\n",
              "0    18.0          8         307.0       130.0  3504.0          12.0    70   \n",
              "1    15.0          8         350.0       165.0  3693.0          11.5    70   \n",
              "2    18.0          8         318.0       150.0  3436.0          11.0    70   \n",
              "3    16.0          8         304.0       150.0  3433.0          12.0    70   \n",
              "4    17.0          8         302.0       140.0  3449.0          10.5    70   \n",
              "..    ...        ...           ...         ...     ...           ...   ...   \n",
              "392  27.0          4         140.0        86.0  2790.0          15.6    82   \n",
              "393  44.0          4          97.0        52.0  2130.0          24.6    82   \n",
              "394  32.0          4         135.0        84.0  2295.0          11.6    82   \n",
              "395  28.0          4         120.0        79.0  2625.0          18.6    82   \n",
              "396  31.0          4         119.0        82.0  2720.0          19.4    82   \n",
              "\n",
              "     origin                       name  \n",
              "0         1  chevrolet chevelle malibu  \n",
              "1         1          buick skylark 320  \n",
              "2         1         plymouth satellite  \n",
              "3         1              amc rebel sst  \n",
              "4         1                ford torino  \n",
              "..      ...                        ...  \n",
              "392       1            ford mustang gl  \n",
              "393       2                  vw pickup  \n",
              "394       1              dodge rampage  \n",
              "395       1                ford ranger  \n",
              "396       1                 chevy s-10  \n",
              "\n",
              "[397 rows x 9 columns]"
            ]
          },
          "execution_count": 6,
          "metadata": {},
          "output_type": "execute_result"
        }
      ],
      "source": [
        "df = pd.read_csv(\n",
        "    \"/Users/jernejfrank/Documents/code/probable-guacamole/datasets/Auto.data\",\n",
        "    na_values=[\"?\"],\n",
        "    delim_whitespace=True,\n",
        ")\n",
        "df"
      ]
    },
    {
      "cell_type": "code",
      "execution_count": 7,
      "metadata": {},
      "outputs": [
        {
          "data": {
            "text/plain": [
              "np.float64(40952.0)"
            ]
          },
          "execution_count": 7,
          "metadata": {},
          "output_type": "execute_result"
        }
      ],
      "source": [
        "df[\"horsepower\"].sum()"
      ]
    },
    {
      "cell_type": "code",
      "execution_count": 8,
      "metadata": {},
      "outputs": [
        {
          "data": {
            "text/plain": [
              "(397, 9)"
            ]
          },
          "execution_count": 8,
          "metadata": {},
          "output_type": "execute_result"
        }
      ],
      "source": [
        "df.shape"
      ]
    },
    {
      "cell_type": "code",
      "execution_count": 9,
      "metadata": {},
      "outputs": [
        {
          "data": {
            "text/plain": [
              "(392, 9)"
            ]
          },
          "execution_count": 9,
          "metadata": {},
          "output_type": "execute_result"
        }
      ],
      "source": [
        "df_new = df.dropna()\n",
        "df_new.shape"
      ]
    },
    {
      "cell_type": "markdown",
      "metadata": {},
      "source": [
        "# Selecting data"
      ]
    },
    {
      "cell_type": "code",
      "execution_count": 10,
      "metadata": {},
      "outputs": [
        {
          "data": {
            "text/plain": [
              "Index(['mpg', 'cylinders', 'displacement', 'horsepower', 'weight',\n",
              "       'acceleration', 'year', 'origin', 'name'],\n",
              "      dtype='object')"
            ]
          },
          "execution_count": 10,
          "metadata": {},
          "output_type": "execute_result"
        }
      ],
      "source": [
        "df = df_new\n",
        "df.columns"
      ]
    },
    {
      "cell_type": "code",
      "execution_count": 11,
      "metadata": {},
      "outputs": [
        {
          "data": {
            "text/html": [
              "<div>\n",
              "<style scoped>\n",
              "    .dataframe tbody tr th:only-of-type {\n",
              "        vertical-align: middle;\n",
              "    }\n",
              "\n",
              "    .dataframe tbody tr th {\n",
              "        vertical-align: top;\n",
              "    }\n",
              "\n",
              "    .dataframe thead th {\n",
              "        text-align: right;\n",
              "    }\n",
              "</style>\n",
              "<table border=\"1\" class=\"dataframe\">\n",
              "  <thead>\n",
              "    <tr style=\"text-align: right;\">\n",
              "      <th></th>\n",
              "      <th>mpg</th>\n",
              "      <th>cylinders</th>\n",
              "      <th>displacement</th>\n",
              "      <th>horsepower</th>\n",
              "      <th>weight</th>\n",
              "      <th>acceleration</th>\n",
              "      <th>year</th>\n",
              "      <th>origin</th>\n",
              "      <th>name</th>\n",
              "    </tr>\n",
              "  </thead>\n",
              "  <tbody>\n",
              "    <tr>\n",
              "      <th>0</th>\n",
              "      <td>18.0</td>\n",
              "      <td>8</td>\n",
              "      <td>307.0</td>\n",
              "      <td>130.0</td>\n",
              "      <td>3504.0</td>\n",
              "      <td>12.0</td>\n",
              "      <td>70</td>\n",
              "      <td>1</td>\n",
              "      <td>chevrolet chevelle malibu</td>\n",
              "    </tr>\n",
              "    <tr>\n",
              "      <th>1</th>\n",
              "      <td>15.0</td>\n",
              "      <td>8</td>\n",
              "      <td>350.0</td>\n",
              "      <td>165.0</td>\n",
              "      <td>3693.0</td>\n",
              "      <td>11.5</td>\n",
              "      <td>70</td>\n",
              "      <td>1</td>\n",
              "      <td>buick skylark 320</td>\n",
              "    </tr>\n",
              "    <tr>\n",
              "      <th>2</th>\n",
              "      <td>18.0</td>\n",
              "      <td>8</td>\n",
              "      <td>318.0</td>\n",
              "      <td>150.0</td>\n",
              "      <td>3436.0</td>\n",
              "      <td>11.0</td>\n",
              "      <td>70</td>\n",
              "      <td>1</td>\n",
              "      <td>plymouth satellite</td>\n",
              "    </tr>\n",
              "  </tbody>\n",
              "</table>\n",
              "</div>"
            ],
            "text/plain": [
              "    mpg  cylinders  displacement  horsepower  weight  acceleration  year  \\\n",
              "0  18.0          8         307.0       130.0  3504.0          12.0    70   \n",
              "1  15.0          8         350.0       165.0  3693.0          11.5    70   \n",
              "2  18.0          8         318.0       150.0  3436.0          11.0    70   \n",
              "\n",
              "   origin                       name  \n",
              "0       1  chevrolet chevelle malibu  \n",
              "1       1          buick skylark 320  \n",
              "2       1         plymouth satellite  "
            ]
          },
          "execution_count": 11,
          "metadata": {},
          "output_type": "execute_result"
        }
      ],
      "source": [
        "df[:3]"
      ]
    },
    {
      "cell_type": "code",
      "execution_count": 12,
      "metadata": {},
      "outputs": [
        {
          "data": {
            "text/html": [
              "<div>\n",
              "<style scoped>\n",
              "    .dataframe tbody tr th:only-of-type {\n",
              "        vertical-align: middle;\n",
              "    }\n",
              "\n",
              "    .dataframe tbody tr th {\n",
              "        vertical-align: top;\n",
              "    }\n",
              "\n",
              "    .dataframe thead th {\n",
              "        text-align: right;\n",
              "    }\n",
              "</style>\n",
              "<table border=\"1\" class=\"dataframe\">\n",
              "  <thead>\n",
              "    <tr style=\"text-align: right;\">\n",
              "      <th></th>\n",
              "      <th>mpg</th>\n",
              "      <th>cylinders</th>\n",
              "      <th>displacement</th>\n",
              "      <th>horsepower</th>\n",
              "      <th>weight</th>\n",
              "      <th>acceleration</th>\n",
              "      <th>year</th>\n",
              "      <th>origin</th>\n",
              "      <th>name</th>\n",
              "    </tr>\n",
              "  </thead>\n",
              "  <tbody>\n",
              "    <tr>\n",
              "      <th>309</th>\n",
              "      <td>41.5</td>\n",
              "      <td>4</td>\n",
              "      <td>98.0</td>\n",
              "      <td>76.0</td>\n",
              "      <td>2144.0</td>\n",
              "      <td>14.7</td>\n",
              "      <td>80</td>\n",
              "      <td>2</td>\n",
              "      <td>vw rabbit</td>\n",
              "    </tr>\n",
              "    <tr>\n",
              "      <th>310</th>\n",
              "      <td>38.1</td>\n",
              "      <td>4</td>\n",
              "      <td>89.0</td>\n",
              "      <td>60.0</td>\n",
              "      <td>1968.0</td>\n",
              "      <td>18.8</td>\n",
              "      <td>80</td>\n",
              "      <td>3</td>\n",
              "      <td>toyota corolla tercel</td>\n",
              "    </tr>\n",
              "    <tr>\n",
              "      <th>311</th>\n",
              "      <td>32.1</td>\n",
              "      <td>4</td>\n",
              "      <td>98.0</td>\n",
              "      <td>70.0</td>\n",
              "      <td>2120.0</td>\n",
              "      <td>15.5</td>\n",
              "      <td>80</td>\n",
              "      <td>1</td>\n",
              "      <td>chevrolet chevette</td>\n",
              "    </tr>\n",
              "    <tr>\n",
              "      <th>312</th>\n",
              "      <td>37.2</td>\n",
              "      <td>4</td>\n",
              "      <td>86.0</td>\n",
              "      <td>65.0</td>\n",
              "      <td>2019.0</td>\n",
              "      <td>16.4</td>\n",
              "      <td>80</td>\n",
              "      <td>3</td>\n",
              "      <td>datsun 310</td>\n",
              "    </tr>\n",
              "    <tr>\n",
              "      <th>313</th>\n",
              "      <td>28.0</td>\n",
              "      <td>4</td>\n",
              "      <td>151.0</td>\n",
              "      <td>90.0</td>\n",
              "      <td>2678.0</td>\n",
              "      <td>16.5</td>\n",
              "      <td>80</td>\n",
              "      <td>1</td>\n",
              "      <td>chevrolet citation</td>\n",
              "    </tr>\n",
              "    <tr>\n",
              "      <th>314</th>\n",
              "      <td>26.4</td>\n",
              "      <td>4</td>\n",
              "      <td>140.0</td>\n",
              "      <td>88.0</td>\n",
              "      <td>2870.0</td>\n",
              "      <td>18.1</td>\n",
              "      <td>80</td>\n",
              "      <td>1</td>\n",
              "      <td>ford fairmont</td>\n",
              "    </tr>\n",
              "    <tr>\n",
              "      <th>315</th>\n",
              "      <td>24.3</td>\n",
              "      <td>4</td>\n",
              "      <td>151.0</td>\n",
              "      <td>90.0</td>\n",
              "      <td>3003.0</td>\n",
              "      <td>20.1</td>\n",
              "      <td>80</td>\n",
              "      <td>1</td>\n",
              "      <td>amc concord</td>\n",
              "    </tr>\n",
              "    <tr>\n",
              "      <th>316</th>\n",
              "      <td>19.1</td>\n",
              "      <td>6</td>\n",
              "      <td>225.0</td>\n",
              "      <td>90.0</td>\n",
              "      <td>3381.0</td>\n",
              "      <td>18.7</td>\n",
              "      <td>80</td>\n",
              "      <td>1</td>\n",
              "      <td>dodge aspen</td>\n",
              "    </tr>\n",
              "    <tr>\n",
              "      <th>317</th>\n",
              "      <td>34.3</td>\n",
              "      <td>4</td>\n",
              "      <td>97.0</td>\n",
              "      <td>78.0</td>\n",
              "      <td>2188.0</td>\n",
              "      <td>15.8</td>\n",
              "      <td>80</td>\n",
              "      <td>2</td>\n",
              "      <td>audi 4000</td>\n",
              "    </tr>\n",
              "    <tr>\n",
              "      <th>318</th>\n",
              "      <td>29.8</td>\n",
              "      <td>4</td>\n",
              "      <td>134.0</td>\n",
              "      <td>90.0</td>\n",
              "      <td>2711.0</td>\n",
              "      <td>15.5</td>\n",
              "      <td>80</td>\n",
              "      <td>3</td>\n",
              "      <td>toyota corona liftback</td>\n",
              "    </tr>\n",
              "    <tr>\n",
              "      <th>319</th>\n",
              "      <td>31.3</td>\n",
              "      <td>4</td>\n",
              "      <td>120.0</td>\n",
              "      <td>75.0</td>\n",
              "      <td>2542.0</td>\n",
              "      <td>17.5</td>\n",
              "      <td>80</td>\n",
              "      <td>3</td>\n",
              "      <td>mazda 626</td>\n",
              "    </tr>\n",
              "    <tr>\n",
              "      <th>320</th>\n",
              "      <td>37.0</td>\n",
              "      <td>4</td>\n",
              "      <td>119.0</td>\n",
              "      <td>92.0</td>\n",
              "      <td>2434.0</td>\n",
              "      <td>15.0</td>\n",
              "      <td>80</td>\n",
              "      <td>3</td>\n",
              "      <td>datsun 510 hatchback</td>\n",
              "    </tr>\n",
              "    <tr>\n",
              "      <th>321</th>\n",
              "      <td>32.2</td>\n",
              "      <td>4</td>\n",
              "      <td>108.0</td>\n",
              "      <td>75.0</td>\n",
              "      <td>2265.0</td>\n",
              "      <td>15.2</td>\n",
              "      <td>80</td>\n",
              "      <td>3</td>\n",
              "      <td>toyota corolla</td>\n",
              "    </tr>\n",
              "    <tr>\n",
              "      <th>322</th>\n",
              "      <td>46.6</td>\n",
              "      <td>4</td>\n",
              "      <td>86.0</td>\n",
              "      <td>65.0</td>\n",
              "      <td>2110.0</td>\n",
              "      <td>17.9</td>\n",
              "      <td>80</td>\n",
              "      <td>3</td>\n",
              "      <td>mazda glc</td>\n",
              "    </tr>\n",
              "    <tr>\n",
              "      <th>323</th>\n",
              "      <td>27.9</td>\n",
              "      <td>4</td>\n",
              "      <td>156.0</td>\n",
              "      <td>105.0</td>\n",
              "      <td>2800.0</td>\n",
              "      <td>14.4</td>\n",
              "      <td>80</td>\n",
              "      <td>1</td>\n",
              "      <td>dodge colt</td>\n",
              "    </tr>\n",
              "    <tr>\n",
              "      <th>324</th>\n",
              "      <td>40.8</td>\n",
              "      <td>4</td>\n",
              "      <td>85.0</td>\n",
              "      <td>65.0</td>\n",
              "      <td>2110.0</td>\n",
              "      <td>19.2</td>\n",
              "      <td>80</td>\n",
              "      <td>3</td>\n",
              "      <td>datsun 210</td>\n",
              "    </tr>\n",
              "    <tr>\n",
              "      <th>325</th>\n",
              "      <td>44.3</td>\n",
              "      <td>4</td>\n",
              "      <td>90.0</td>\n",
              "      <td>48.0</td>\n",
              "      <td>2085.0</td>\n",
              "      <td>21.7</td>\n",
              "      <td>80</td>\n",
              "      <td>2</td>\n",
              "      <td>vw rabbit c (diesel)</td>\n",
              "    </tr>\n",
              "    <tr>\n",
              "      <th>326</th>\n",
              "      <td>43.4</td>\n",
              "      <td>4</td>\n",
              "      <td>90.0</td>\n",
              "      <td>48.0</td>\n",
              "      <td>2335.0</td>\n",
              "      <td>23.7</td>\n",
              "      <td>80</td>\n",
              "      <td>2</td>\n",
              "      <td>vw dasher (diesel)</td>\n",
              "    </tr>\n",
              "    <tr>\n",
              "      <th>327</th>\n",
              "      <td>36.4</td>\n",
              "      <td>5</td>\n",
              "      <td>121.0</td>\n",
              "      <td>67.0</td>\n",
              "      <td>2950.0</td>\n",
              "      <td>19.9</td>\n",
              "      <td>80</td>\n",
              "      <td>2</td>\n",
              "      <td>audi 5000s (diesel)</td>\n",
              "    </tr>\n",
              "    <tr>\n",
              "      <th>328</th>\n",
              "      <td>30.0</td>\n",
              "      <td>4</td>\n",
              "      <td>146.0</td>\n",
              "      <td>67.0</td>\n",
              "      <td>3250.0</td>\n",
              "      <td>21.8</td>\n",
              "      <td>80</td>\n",
              "      <td>2</td>\n",
              "      <td>mercedes-benz 240d</td>\n",
              "    </tr>\n",
              "    <tr>\n",
              "      <th>329</th>\n",
              "      <td>44.6</td>\n",
              "      <td>4</td>\n",
              "      <td>91.0</td>\n",
              "      <td>67.0</td>\n",
              "      <td>1850.0</td>\n",
              "      <td>13.8</td>\n",
              "      <td>80</td>\n",
              "      <td>3</td>\n",
              "      <td>honda civic 1500 gl</td>\n",
              "    </tr>\n",
              "    <tr>\n",
              "      <th>331</th>\n",
              "      <td>33.8</td>\n",
              "      <td>4</td>\n",
              "      <td>97.0</td>\n",
              "      <td>67.0</td>\n",
              "      <td>2145.0</td>\n",
              "      <td>18.0</td>\n",
              "      <td>80</td>\n",
              "      <td>3</td>\n",
              "      <td>subaru dl</td>\n",
              "    </tr>\n",
              "    <tr>\n",
              "      <th>332</th>\n",
              "      <td>29.8</td>\n",
              "      <td>4</td>\n",
              "      <td>89.0</td>\n",
              "      <td>62.0</td>\n",
              "      <td>1845.0</td>\n",
              "      <td>15.3</td>\n",
              "      <td>80</td>\n",
              "      <td>2</td>\n",
              "      <td>vokswagen rabbit</td>\n",
              "    </tr>\n",
              "    <tr>\n",
              "      <th>333</th>\n",
              "      <td>32.7</td>\n",
              "      <td>6</td>\n",
              "      <td>168.0</td>\n",
              "      <td>132.0</td>\n",
              "      <td>2910.0</td>\n",
              "      <td>11.4</td>\n",
              "      <td>80</td>\n",
              "      <td>3</td>\n",
              "      <td>datsun 280-zx</td>\n",
              "    </tr>\n",
              "    <tr>\n",
              "      <th>334</th>\n",
              "      <td>23.7</td>\n",
              "      <td>3</td>\n",
              "      <td>70.0</td>\n",
              "      <td>100.0</td>\n",
              "      <td>2420.0</td>\n",
              "      <td>12.5</td>\n",
              "      <td>80</td>\n",
              "      <td>3</td>\n",
              "      <td>mazda rx-7 gs</td>\n",
              "    </tr>\n",
              "    <tr>\n",
              "      <th>335</th>\n",
              "      <td>35.0</td>\n",
              "      <td>4</td>\n",
              "      <td>122.0</td>\n",
              "      <td>88.0</td>\n",
              "      <td>2500.0</td>\n",
              "      <td>15.1</td>\n",
              "      <td>80</td>\n",
              "      <td>2</td>\n",
              "      <td>triumph tr7 coupe</td>\n",
              "    </tr>\n",
              "    <tr>\n",
              "      <th>337</th>\n",
              "      <td>32.4</td>\n",
              "      <td>4</td>\n",
              "      <td>107.0</td>\n",
              "      <td>72.0</td>\n",
              "      <td>2290.0</td>\n",
              "      <td>17.0</td>\n",
              "      <td>80</td>\n",
              "      <td>3</td>\n",
              "      <td>honda accord</td>\n",
              "    </tr>\n",
              "  </tbody>\n",
              "</table>\n",
              "</div>"
            ],
            "text/plain": [
              "      mpg  cylinders  displacement  horsepower  weight  acceleration  year  \\\n",
              "309  41.5          4          98.0        76.0  2144.0          14.7    80   \n",
              "310  38.1          4          89.0        60.0  1968.0          18.8    80   \n",
              "311  32.1          4          98.0        70.0  2120.0          15.5    80   \n",
              "312  37.2          4          86.0        65.0  2019.0          16.4    80   \n",
              "313  28.0          4         151.0        90.0  2678.0          16.5    80   \n",
              "314  26.4          4         140.0        88.0  2870.0          18.1    80   \n",
              "315  24.3          4         151.0        90.0  3003.0          20.1    80   \n",
              "316  19.1          6         225.0        90.0  3381.0          18.7    80   \n",
              "317  34.3          4          97.0        78.0  2188.0          15.8    80   \n",
              "318  29.8          4         134.0        90.0  2711.0          15.5    80   \n",
              "319  31.3          4         120.0        75.0  2542.0          17.5    80   \n",
              "320  37.0          4         119.0        92.0  2434.0          15.0    80   \n",
              "321  32.2          4         108.0        75.0  2265.0          15.2    80   \n",
              "322  46.6          4          86.0        65.0  2110.0          17.9    80   \n",
              "323  27.9          4         156.0       105.0  2800.0          14.4    80   \n",
              "324  40.8          4          85.0        65.0  2110.0          19.2    80   \n",
              "325  44.3          4          90.0        48.0  2085.0          21.7    80   \n",
              "326  43.4          4          90.0        48.0  2335.0          23.7    80   \n",
              "327  36.4          5         121.0        67.0  2950.0          19.9    80   \n",
              "328  30.0          4         146.0        67.0  3250.0          21.8    80   \n",
              "329  44.6          4          91.0        67.0  1850.0          13.8    80   \n",
              "331  33.8          4          97.0        67.0  2145.0          18.0    80   \n",
              "332  29.8          4          89.0        62.0  1845.0          15.3    80   \n",
              "333  32.7          6         168.0       132.0  2910.0          11.4    80   \n",
              "334  23.7          3          70.0       100.0  2420.0          12.5    80   \n",
              "335  35.0          4         122.0        88.0  2500.0          15.1    80   \n",
              "337  32.4          4         107.0        72.0  2290.0          17.0    80   \n",
              "\n",
              "     origin                    name  \n",
              "309       2               vw rabbit  \n",
              "310       3   toyota corolla tercel  \n",
              "311       1      chevrolet chevette  \n",
              "312       3              datsun 310  \n",
              "313       1      chevrolet citation  \n",
              "314       1           ford fairmont  \n",
              "315       1             amc concord  \n",
              "316       1             dodge aspen  \n",
              "317       2               audi 4000  \n",
              "318       3  toyota corona liftback  \n",
              "319       3               mazda 626  \n",
              "320       3    datsun 510 hatchback  \n",
              "321       3          toyota corolla  \n",
              "322       3               mazda glc  \n",
              "323       1              dodge colt  \n",
              "324       3              datsun 210  \n",
              "325       2    vw rabbit c (diesel)  \n",
              "326       2      vw dasher (diesel)  \n",
              "327       2     audi 5000s (diesel)  \n",
              "328       2      mercedes-benz 240d  \n",
              "329       3     honda civic 1500 gl  \n",
              "331       3               subaru dl  \n",
              "332       2        vokswagen rabbit  \n",
              "333       3           datsun 280-zx  \n",
              "334       3           mazda rx-7 gs  \n",
              "335       2       triumph tr7 coupe  \n",
              "337       3            honda accord  "
            ]
          },
          "execution_count": 12,
          "metadata": {},
          "output_type": "execute_result"
        }
      ],
      "source": [
        "df[df[\"year\"] == 80]"
      ]
    },
    {
      "cell_type": "code",
      "execution_count": 13,
      "metadata": {},
      "outputs": [
        {
          "data": {
            "text/html": [
              "<div>\n",
              "<style scoped>\n",
              "    .dataframe tbody tr th:only-of-type {\n",
              "        vertical-align: middle;\n",
              "    }\n",
              "\n",
              "    .dataframe tbody tr th {\n",
              "        vertical-align: top;\n",
              "    }\n",
              "\n",
              "    .dataframe thead th {\n",
              "        text-align: right;\n",
              "    }\n",
              "</style>\n",
              "<table border=\"1\" class=\"dataframe\">\n",
              "  <thead>\n",
              "    <tr style=\"text-align: right;\">\n",
              "      <th></th>\n",
              "      <th>mpg</th>\n",
              "      <th>cylinders</th>\n",
              "      <th>displacement</th>\n",
              "      <th>horsepower</th>\n",
              "      <th>weight</th>\n",
              "      <th>acceleration</th>\n",
              "      <th>year</th>\n",
              "      <th>origin</th>\n",
              "    </tr>\n",
              "    <tr>\n",
              "      <th>name</th>\n",
              "      <th></th>\n",
              "      <th></th>\n",
              "      <th></th>\n",
              "      <th></th>\n",
              "      <th></th>\n",
              "      <th></th>\n",
              "      <th></th>\n",
              "      <th></th>\n",
              "    </tr>\n",
              "  </thead>\n",
              "  <tbody>\n",
              "    <tr>\n",
              "      <th>chevrolet chevelle malibu</th>\n",
              "      <td>18.0</td>\n",
              "      <td>8</td>\n",
              "      <td>307.0</td>\n",
              "      <td>130.0</td>\n",
              "      <td>3504.0</td>\n",
              "      <td>12.0</td>\n",
              "      <td>70</td>\n",
              "      <td>1</td>\n",
              "    </tr>\n",
              "    <tr>\n",
              "      <th>buick skylark 320</th>\n",
              "      <td>15.0</td>\n",
              "      <td>8</td>\n",
              "      <td>350.0</td>\n",
              "      <td>165.0</td>\n",
              "      <td>3693.0</td>\n",
              "      <td>11.5</td>\n",
              "      <td>70</td>\n",
              "      <td>1</td>\n",
              "    </tr>\n",
              "    <tr>\n",
              "      <th>plymouth satellite</th>\n",
              "      <td>18.0</td>\n",
              "      <td>8</td>\n",
              "      <td>318.0</td>\n",
              "      <td>150.0</td>\n",
              "      <td>3436.0</td>\n",
              "      <td>11.0</td>\n",
              "      <td>70</td>\n",
              "      <td>1</td>\n",
              "    </tr>\n",
              "    <tr>\n",
              "      <th>amc rebel sst</th>\n",
              "      <td>16.0</td>\n",
              "      <td>8</td>\n",
              "      <td>304.0</td>\n",
              "      <td>150.0</td>\n",
              "      <td>3433.0</td>\n",
              "      <td>12.0</td>\n",
              "      <td>70</td>\n",
              "      <td>1</td>\n",
              "    </tr>\n",
              "    <tr>\n",
              "      <th>ford torino</th>\n",
              "      <td>17.0</td>\n",
              "      <td>8</td>\n",
              "      <td>302.0</td>\n",
              "      <td>140.0</td>\n",
              "      <td>3449.0</td>\n",
              "      <td>10.5</td>\n",
              "      <td>70</td>\n",
              "      <td>1</td>\n",
              "    </tr>\n",
              "    <tr>\n",
              "      <th>...</th>\n",
              "      <td>...</td>\n",
              "      <td>...</td>\n",
              "      <td>...</td>\n",
              "      <td>...</td>\n",
              "      <td>...</td>\n",
              "      <td>...</td>\n",
              "      <td>...</td>\n",
              "      <td>...</td>\n",
              "    </tr>\n",
              "    <tr>\n",
              "      <th>ford mustang gl</th>\n",
              "      <td>27.0</td>\n",
              "      <td>4</td>\n",
              "      <td>140.0</td>\n",
              "      <td>86.0</td>\n",
              "      <td>2790.0</td>\n",
              "      <td>15.6</td>\n",
              "      <td>82</td>\n",
              "      <td>1</td>\n",
              "    </tr>\n",
              "    <tr>\n",
              "      <th>vw pickup</th>\n",
              "      <td>44.0</td>\n",
              "      <td>4</td>\n",
              "      <td>97.0</td>\n",
              "      <td>52.0</td>\n",
              "      <td>2130.0</td>\n",
              "      <td>24.6</td>\n",
              "      <td>82</td>\n",
              "      <td>2</td>\n",
              "    </tr>\n",
              "    <tr>\n",
              "      <th>dodge rampage</th>\n",
              "      <td>32.0</td>\n",
              "      <td>4</td>\n",
              "      <td>135.0</td>\n",
              "      <td>84.0</td>\n",
              "      <td>2295.0</td>\n",
              "      <td>11.6</td>\n",
              "      <td>82</td>\n",
              "      <td>1</td>\n",
              "    </tr>\n",
              "    <tr>\n",
              "      <th>ford ranger</th>\n",
              "      <td>28.0</td>\n",
              "      <td>4</td>\n",
              "      <td>120.0</td>\n",
              "      <td>79.0</td>\n",
              "      <td>2625.0</td>\n",
              "      <td>18.6</td>\n",
              "      <td>82</td>\n",
              "      <td>1</td>\n",
              "    </tr>\n",
              "    <tr>\n",
              "      <th>chevy s-10</th>\n",
              "      <td>31.0</td>\n",
              "      <td>4</td>\n",
              "      <td>119.0</td>\n",
              "      <td>82.0</td>\n",
              "      <td>2720.0</td>\n",
              "      <td>19.4</td>\n",
              "      <td>82</td>\n",
              "      <td>1</td>\n",
              "    </tr>\n",
              "  </tbody>\n",
              "</table>\n",
              "<p>392 rows \u00d7 8 columns</p>\n",
              "</div>"
            ],
            "text/plain": [
              "                            mpg  cylinders  displacement  horsepower  weight  \\\n",
              "name                                                                           \n",
              "chevrolet chevelle malibu  18.0          8         307.0       130.0  3504.0   \n",
              "buick skylark 320          15.0          8         350.0       165.0  3693.0   \n",
              "plymouth satellite         18.0          8         318.0       150.0  3436.0   \n",
              "amc rebel sst              16.0          8         304.0       150.0  3433.0   \n",
              "ford torino                17.0          8         302.0       140.0  3449.0   \n",
              "...                         ...        ...           ...         ...     ...   \n",
              "ford mustang gl            27.0          4         140.0        86.0  2790.0   \n",
              "vw pickup                  44.0          4          97.0        52.0  2130.0   \n",
              "dodge rampage              32.0          4         135.0        84.0  2295.0   \n",
              "ford ranger                28.0          4         120.0        79.0  2625.0   \n",
              "chevy s-10                 31.0          4         119.0        82.0  2720.0   \n",
              "\n",
              "                           acceleration  year  origin  \n",
              "name                                                   \n",
              "chevrolet chevelle malibu          12.0    70       1  \n",
              "buick skylark 320                  11.5    70       1  \n",
              "plymouth satellite                 11.0    70       1  \n",
              "amc rebel sst                      12.0    70       1  \n",
              "ford torino                        10.5    70       1  \n",
              "...                                 ...   ...     ...  \n",
              "ford mustang gl                    15.6    82       1  \n",
              "vw pickup                          24.6    82       2  \n",
              "dodge rampage                      11.6    82       1  \n",
              "ford ranger                        18.6    82       1  \n",
              "chevy s-10                         19.4    82       1  \n",
              "\n",
              "[392 rows x 8 columns]"
            ]
          },
          "execution_count": 13,
          "metadata": {},
          "output_type": "execute_result"
        }
      ],
      "source": [
        "df = df.set_index(\"name\")\n",
        "df"
      ]
    },
    {
      "cell_type": "code",
      "execution_count": 14,
      "metadata": {},
      "outputs": [
        {
          "data": {
            "text/html": [
              "<div>\n",
              "<style scoped>\n",
              "    .dataframe tbody tr th:only-of-type {\n",
              "        vertical-align: middle;\n",
              "    }\n",
              "\n",
              "    .dataframe tbody tr th {\n",
              "        vertical-align: top;\n",
              "    }\n",
              "\n",
              "    .dataframe thead th {\n",
              "        text-align: right;\n",
              "    }\n",
              "</style>\n",
              "<table border=\"1\" class=\"dataframe\">\n",
              "  <thead>\n",
              "    <tr style=\"text-align: right;\">\n",
              "      <th></th>\n",
              "      <th>mpg</th>\n",
              "      <th>cylinders</th>\n",
              "      <th>displacement</th>\n",
              "      <th>horsepower</th>\n",
              "      <th>weight</th>\n",
              "      <th>acceleration</th>\n",
              "      <th>year</th>\n",
              "      <th>origin</th>\n",
              "    </tr>\n",
              "    <tr>\n",
              "      <th>name</th>\n",
              "      <th></th>\n",
              "      <th></th>\n",
              "      <th></th>\n",
              "      <th></th>\n",
              "      <th></th>\n",
              "      <th></th>\n",
              "      <th></th>\n",
              "      <th></th>\n",
              "    </tr>\n",
              "  </thead>\n",
              "  <tbody>\n",
              "    <tr>\n",
              "      <th>amc rebel sst</th>\n",
              "      <td>16.0</td>\n",
              "      <td>8</td>\n",
              "      <td>304.0</td>\n",
              "      <td>150.0</td>\n",
              "      <td>3433.0</td>\n",
              "      <td>12.0</td>\n",
              "      <td>70</td>\n",
              "      <td>1</td>\n",
              "    </tr>\n",
              "    <tr>\n",
              "      <th>ford torino</th>\n",
              "      <td>17.0</td>\n",
              "      <td>8</td>\n",
              "      <td>302.0</td>\n",
              "      <td>140.0</td>\n",
              "      <td>3449.0</td>\n",
              "      <td>10.5</td>\n",
              "      <td>70</td>\n",
              "      <td>1</td>\n",
              "    </tr>\n",
              "  </tbody>\n",
              "</table>\n",
              "</div>"
            ],
            "text/plain": [
              "                mpg  cylinders  displacement  horsepower  weight  \\\n",
              "name                                                               \n",
              "amc rebel sst  16.0          8         304.0       150.0  3433.0   \n",
              "ford torino    17.0          8         302.0       140.0  3449.0   \n",
              "\n",
              "               acceleration  year  origin  \n",
              "name                                       \n",
              "amc rebel sst          12.0    70       1  \n",
              "ford torino            10.5    70       1  "
            ]
          },
          "execution_count": 14,
          "metadata": {},
          "output_type": "execute_result"
        }
      ],
      "source": [
        "rows = [\"amc rebel sst\", \"ford torino\"]\n",
        "df.loc[rows]"
      ]
    },
    {
      "cell_type": "code",
      "execution_count": 15,
      "metadata": {},
      "outputs": [
        {
          "data": {
            "text/html": [
              "<div>\n",
              "<style scoped>\n",
              "    .dataframe tbody tr th:only-of-type {\n",
              "        vertical-align: middle;\n",
              "    }\n",
              "\n",
              "    .dataframe tbody tr th {\n",
              "        vertical-align: top;\n",
              "    }\n",
              "\n",
              "    .dataframe thead th {\n",
              "        text-align: right;\n",
              "    }\n",
              "</style>\n",
              "<table border=\"1\" class=\"dataframe\">\n",
              "  <thead>\n",
              "    <tr style=\"text-align: right;\">\n",
              "      <th></th>\n",
              "      <th>mpg</th>\n",
              "      <th>cylinders</th>\n",
              "      <th>displacement</th>\n",
              "      <th>horsepower</th>\n",
              "      <th>weight</th>\n",
              "      <th>acceleration</th>\n",
              "      <th>year</th>\n",
              "      <th>origin</th>\n",
              "    </tr>\n",
              "    <tr>\n",
              "      <th>name</th>\n",
              "      <th></th>\n",
              "      <th></th>\n",
              "      <th></th>\n",
              "      <th></th>\n",
              "      <th></th>\n",
              "      <th></th>\n",
              "      <th></th>\n",
              "      <th></th>\n",
              "    </tr>\n",
              "  </thead>\n",
              "  <tbody>\n",
              "    <tr>\n",
              "      <th>amc rebel sst</th>\n",
              "      <td>16.0</td>\n",
              "      <td>8</td>\n",
              "      <td>304.0</td>\n",
              "      <td>150.0</td>\n",
              "      <td>3433.0</td>\n",
              "      <td>12.0</td>\n",
              "      <td>70</td>\n",
              "      <td>1</td>\n",
              "    </tr>\n",
              "    <tr>\n",
              "      <th>ford torino</th>\n",
              "      <td>17.0</td>\n",
              "      <td>8</td>\n",
              "      <td>302.0</td>\n",
              "      <td>140.0</td>\n",
              "      <td>3449.0</td>\n",
              "      <td>10.5</td>\n",
              "      <td>70</td>\n",
              "      <td>1</td>\n",
              "    </tr>\n",
              "  </tbody>\n",
              "</table>\n",
              "</div>"
            ],
            "text/plain": [
              "                mpg  cylinders  displacement  horsepower  weight  \\\n",
              "name                                                               \n",
              "amc rebel sst  16.0          8         304.0       150.0  3433.0   \n",
              "ford torino    17.0          8         302.0       140.0  3449.0   \n",
              "\n",
              "               acceleration  year  origin  \n",
              "name                                       \n",
              "amc rebel sst          12.0    70       1  \n",
              "ford torino            10.5    70       1  "
            ]
          },
          "execution_count": 15,
          "metadata": {},
          "output_type": "execute_result"
        }
      ],
      "source": [
        "df.iloc[[3, 4]]"
      ]
    },
    {
      "cell_type": "code",
      "execution_count": 16,
      "metadata": {},
      "outputs": [
        {
          "data": {
            "text/html": [
              "<div>\n",
              "<style scoped>\n",
              "    .dataframe tbody tr th:only-of-type {\n",
              "        vertical-align: middle;\n",
              "    }\n",
              "\n",
              "    .dataframe tbody tr th {\n",
              "        vertical-align: top;\n",
              "    }\n",
              "\n",
              "    .dataframe thead th {\n",
              "        text-align: right;\n",
              "    }\n",
              "</style>\n",
              "<table border=\"1\" class=\"dataframe\">\n",
              "  <thead>\n",
              "    <tr style=\"text-align: right;\">\n",
              "      <th></th>\n",
              "      <th>mpg</th>\n",
              "      <th>displacement</th>\n",
              "      <th>horsepower</th>\n",
              "    </tr>\n",
              "    <tr>\n",
              "      <th>name</th>\n",
              "      <th></th>\n",
              "      <th></th>\n",
              "      <th></th>\n",
              "    </tr>\n",
              "  </thead>\n",
              "  <tbody>\n",
              "    <tr>\n",
              "      <th>chevrolet chevelle malibu</th>\n",
              "      <td>18.0</td>\n",
              "      <td>307.0</td>\n",
              "      <td>130.0</td>\n",
              "    </tr>\n",
              "    <tr>\n",
              "      <th>buick skylark 320</th>\n",
              "      <td>15.0</td>\n",
              "      <td>350.0</td>\n",
              "      <td>165.0</td>\n",
              "    </tr>\n",
              "    <tr>\n",
              "      <th>plymouth satellite</th>\n",
              "      <td>18.0</td>\n",
              "      <td>318.0</td>\n",
              "      <td>150.0</td>\n",
              "    </tr>\n",
              "    <tr>\n",
              "      <th>amc rebel sst</th>\n",
              "      <td>16.0</td>\n",
              "      <td>304.0</td>\n",
              "      <td>150.0</td>\n",
              "    </tr>\n",
              "    <tr>\n",
              "      <th>ford torino</th>\n",
              "      <td>17.0</td>\n",
              "      <td>302.0</td>\n",
              "      <td>140.0</td>\n",
              "    </tr>\n",
              "    <tr>\n",
              "      <th>...</th>\n",
              "      <td>...</td>\n",
              "      <td>...</td>\n",
              "      <td>...</td>\n",
              "    </tr>\n",
              "    <tr>\n",
              "      <th>ford mustang gl</th>\n",
              "      <td>27.0</td>\n",
              "      <td>140.0</td>\n",
              "      <td>86.0</td>\n",
              "    </tr>\n",
              "    <tr>\n",
              "      <th>vw pickup</th>\n",
              "      <td>44.0</td>\n",
              "      <td>97.0</td>\n",
              "      <td>52.0</td>\n",
              "    </tr>\n",
              "    <tr>\n",
              "      <th>dodge rampage</th>\n",
              "      <td>32.0</td>\n",
              "      <td>135.0</td>\n",
              "      <td>84.0</td>\n",
              "    </tr>\n",
              "    <tr>\n",
              "      <th>ford ranger</th>\n",
              "      <td>28.0</td>\n",
              "      <td>120.0</td>\n",
              "      <td>79.0</td>\n",
              "    </tr>\n",
              "    <tr>\n",
              "      <th>chevy s-10</th>\n",
              "      <td>31.0</td>\n",
              "      <td>119.0</td>\n",
              "      <td>82.0</td>\n",
              "    </tr>\n",
              "  </tbody>\n",
              "</table>\n",
              "<p>392 rows \u00d7 3 columns</p>\n",
              "</div>"
            ],
            "text/plain": [
              "                            mpg  displacement  horsepower\n",
              "name                                                     \n",
              "chevrolet chevelle malibu  18.0         307.0       130.0\n",
              "buick skylark 320          15.0         350.0       165.0\n",
              "plymouth satellite         18.0         318.0       150.0\n",
              "amc rebel sst              16.0         304.0       150.0\n",
              "ford torino                17.0         302.0       140.0\n",
              "...                         ...           ...         ...\n",
              "ford mustang gl            27.0         140.0        86.0\n",
              "vw pickup                  44.0          97.0        52.0\n",
              "dodge rampage              32.0         135.0        84.0\n",
              "ford ranger                28.0         120.0        79.0\n",
              "chevy s-10                 31.0         119.0        82.0\n",
              "\n",
              "[392 rows x 3 columns]"
            ]
          },
          "execution_count": 16,
          "metadata": {},
          "output_type": "execute_result"
        }
      ],
      "source": [
        "df.iloc[:, [0, 2, 3]]"
      ]
    },
    {
      "cell_type": "code",
      "execution_count": 17,
      "metadata": {},
      "outputs": [
        {
          "data": {
            "text/html": [
              "<div>\n",
              "<style scoped>\n",
              "    .dataframe tbody tr th:only-of-type {\n",
              "        vertical-align: middle;\n",
              "    }\n",
              "\n",
              "    .dataframe tbody tr th {\n",
              "        vertical-align: top;\n",
              "    }\n",
              "\n",
              "    .dataframe thead th {\n",
              "        text-align: right;\n",
              "    }\n",
              "</style>\n",
              "<table border=\"1\" class=\"dataframe\">\n",
              "  <thead>\n",
              "    <tr style=\"text-align: right;\">\n",
              "      <th></th>\n",
              "      <th>mpg</th>\n",
              "      <th>displacement</th>\n",
              "      <th>horsepower</th>\n",
              "    </tr>\n",
              "    <tr>\n",
              "      <th>name</th>\n",
              "      <th></th>\n",
              "      <th></th>\n",
              "      <th></th>\n",
              "    </tr>\n",
              "  </thead>\n",
              "  <tbody>\n",
              "    <tr>\n",
              "      <th>amc rebel sst</th>\n",
              "      <td>16.0</td>\n",
              "      <td>304.0</td>\n",
              "      <td>150.0</td>\n",
              "    </tr>\n",
              "    <tr>\n",
              "      <th>ford torino</th>\n",
              "      <td>17.0</td>\n",
              "      <td>302.0</td>\n",
              "      <td>140.0</td>\n",
              "    </tr>\n",
              "  </tbody>\n",
              "</table>\n",
              "</div>"
            ],
            "text/plain": [
              "                mpg  displacement  horsepower\n",
              "name                                         \n",
              "amc rebel sst  16.0         304.0       150.0\n",
              "ford torino    17.0         302.0       140.0"
            ]
          },
          "execution_count": 17,
          "metadata": {},
          "output_type": "execute_result"
        }
      ],
      "source": [
        "df.iloc[[3, 4], [0, 2, 3]]"
      ]
    },
    {
      "cell_type": "code",
      "execution_count": 18,
      "metadata": {},
      "outputs": [
        {
          "data": {
            "text/html": [
              "<div>\n",
              "<style scoped>\n",
              "    .dataframe tbody tr th:only-of-type {\n",
              "        vertical-align: middle;\n",
              "    }\n",
              "\n",
              "    .dataframe tbody tr th {\n",
              "        vertical-align: top;\n",
              "    }\n",
              "\n",
              "    .dataframe thead th {\n",
              "        text-align: right;\n",
              "    }\n",
              "</style>\n",
              "<table border=\"1\" class=\"dataframe\">\n",
              "  <thead>\n",
              "    <tr style=\"text-align: right;\">\n",
              "      <th></th>\n",
              "      <th>mpg</th>\n",
              "      <th>origin</th>\n",
              "    </tr>\n",
              "    <tr>\n",
              "      <th>name</th>\n",
              "      <th></th>\n",
              "      <th></th>\n",
              "    </tr>\n",
              "  </thead>\n",
              "  <tbody>\n",
              "    <tr>\n",
              "      <th>ford galaxie 500</th>\n",
              "      <td>15.0</td>\n",
              "      <td>1</td>\n",
              "    </tr>\n",
              "    <tr>\n",
              "      <th>ford galaxie 500</th>\n",
              "      <td>14.0</td>\n",
              "      <td>1</td>\n",
              "    </tr>\n",
              "    <tr>\n",
              "      <th>ford galaxie 500</th>\n",
              "      <td>14.0</td>\n",
              "      <td>1</td>\n",
              "    </tr>\n",
              "  </tbody>\n",
              "</table>\n",
              "</div>"
            ],
            "text/plain": [
              "                   mpg  origin\n",
              "name                          \n",
              "ford galaxie 500  15.0       1\n",
              "ford galaxie 500  14.0       1\n",
              "ford galaxie 500  14.0       1"
            ]
          },
          "execution_count": 18,
          "metadata": {},
          "output_type": "execute_result"
        }
      ],
      "source": [
        "df.loc[[\"ford galaxie 500\"], [\"mpg\", \"origin\"]]"
      ]
    },
    {
      "cell_type": "markdown",
      "metadata": {},
      "source": [
        "# Advanced selection"
      ]
    },
    {
      "cell_type": "markdown",
      "metadata": {},
      "source": [
        "## Pandas"
      ]
    },
    {
      "cell_type": "code",
      "execution_count": 19,
      "metadata": {},
      "outputs": [
        {
          "data": {
            "text/html": [
              "<div>\n",
              "<style scoped>\n",
              "    .dataframe tbody tr th:only-of-type {\n",
              "        vertical-align: middle;\n",
              "    }\n",
              "\n",
              "    .dataframe tbody tr th {\n",
              "        vertical-align: top;\n",
              "    }\n",
              "\n",
              "    .dataframe thead th {\n",
              "        text-align: right;\n",
              "    }\n",
              "</style>\n",
              "<table border=\"1\" class=\"dataframe\">\n",
              "  <thead>\n",
              "    <tr style=\"text-align: right;\">\n",
              "      <th></th>\n",
              "      <th>weight</th>\n",
              "      <th>origin</th>\n",
              "    </tr>\n",
              "    <tr>\n",
              "      <th>name</th>\n",
              "      <th></th>\n",
              "      <th></th>\n",
              "    </tr>\n",
              "  </thead>\n",
              "  <tbody>\n",
              "    <tr>\n",
              "      <th>plymouth reliant</th>\n",
              "      <td>2490.0</td>\n",
              "      <td>1</td>\n",
              "    </tr>\n",
              "    <tr>\n",
              "      <th>buick skylark</th>\n",
              "      <td>2635.0</td>\n",
              "      <td>1</td>\n",
              "    </tr>\n",
              "    <tr>\n",
              "      <th>dodge aries wagon (sw)</th>\n",
              "      <td>2620.0</td>\n",
              "      <td>1</td>\n",
              "    </tr>\n",
              "    <tr>\n",
              "      <th>chevrolet citation</th>\n",
              "      <td>2725.0</td>\n",
              "      <td>1</td>\n",
              "    </tr>\n",
              "    <tr>\n",
              "      <th>plymouth reliant</th>\n",
              "      <td>2385.0</td>\n",
              "      <td>1</td>\n",
              "    </tr>\n",
              "    <tr>\n",
              "      <th>toyota starlet</th>\n",
              "      <td>1755.0</td>\n",
              "      <td>3</td>\n",
              "    </tr>\n",
              "    <tr>\n",
              "      <th>plymouth champ</th>\n",
              "      <td>1875.0</td>\n",
              "      <td>1</td>\n",
              "    </tr>\n",
              "    <tr>\n",
              "      <th>honda civic 1300</th>\n",
              "      <td>1760.0</td>\n",
              "      <td>3</td>\n",
              "    </tr>\n",
              "    <tr>\n",
              "      <th>subaru</th>\n",
              "      <td>2065.0</td>\n",
              "      <td>3</td>\n",
              "    </tr>\n",
              "    <tr>\n",
              "      <th>datsun 210 mpg</th>\n",
              "      <td>1975.0</td>\n",
              "      <td>3</td>\n",
              "    </tr>\n",
              "    <tr>\n",
              "      <th>toyota tercel</th>\n",
              "      <td>2050.0</td>\n",
              "      <td>3</td>\n",
              "    </tr>\n",
              "    <tr>\n",
              "      <th>mazda glc 4</th>\n",
              "      <td>1985.0</td>\n",
              "      <td>3</td>\n",
              "    </tr>\n",
              "    <tr>\n",
              "      <th>plymouth horizon 4</th>\n",
              "      <td>2215.0</td>\n",
              "      <td>1</td>\n",
              "    </tr>\n",
              "    <tr>\n",
              "      <th>ford escort 4w</th>\n",
              "      <td>2045.0</td>\n",
              "      <td>1</td>\n",
              "    </tr>\n",
              "    <tr>\n",
              "      <th>ford escort 2h</th>\n",
              "      <td>2380.0</td>\n",
              "      <td>1</td>\n",
              "    </tr>\n",
              "    <tr>\n",
              "      <th>volkswagen jetta</th>\n",
              "      <td>2190.0</td>\n",
              "      <td>2</td>\n",
              "    </tr>\n",
              "    <tr>\n",
              "      <th>honda prelude</th>\n",
              "      <td>2210.0</td>\n",
              "      <td>3</td>\n",
              "    </tr>\n",
              "    <tr>\n",
              "      <th>toyota corolla</th>\n",
              "      <td>2350.0</td>\n",
              "      <td>3</td>\n",
              "    </tr>\n",
              "    <tr>\n",
              "      <th>datsun 200sx</th>\n",
              "      <td>2615.0</td>\n",
              "      <td>3</td>\n",
              "    </tr>\n",
              "    <tr>\n",
              "      <th>mazda 626</th>\n",
              "      <td>2635.0</td>\n",
              "      <td>3</td>\n",
              "    </tr>\n",
              "    <tr>\n",
              "      <th>peugeot 505s turbo diesel</th>\n",
              "      <td>3230.0</td>\n",
              "      <td>2</td>\n",
              "    </tr>\n",
              "    <tr>\n",
              "      <th>volvo diesel</th>\n",
              "      <td>3160.0</td>\n",
              "      <td>2</td>\n",
              "    </tr>\n",
              "    <tr>\n",
              "      <th>toyota cressida</th>\n",
              "      <td>2900.0</td>\n",
              "      <td>3</td>\n",
              "    </tr>\n",
              "    <tr>\n",
              "      <th>datsun 810 maxima</th>\n",
              "      <td>2930.0</td>\n",
              "      <td>3</td>\n",
              "    </tr>\n",
              "    <tr>\n",
              "      <th>buick century</th>\n",
              "      <td>3415.0</td>\n",
              "      <td>1</td>\n",
              "    </tr>\n",
              "    <tr>\n",
              "      <th>oldsmobile cutlass ls</th>\n",
              "      <td>3725.0</td>\n",
              "      <td>1</td>\n",
              "    </tr>\n",
              "    <tr>\n",
              "      <th>ford granada gl</th>\n",
              "      <td>3060.0</td>\n",
              "      <td>1</td>\n",
              "    </tr>\n",
              "    <tr>\n",
              "      <th>chrysler lebaron salon</th>\n",
              "      <td>3465.0</td>\n",
              "      <td>1</td>\n",
              "    </tr>\n",
              "    <tr>\n",
              "      <th>chevrolet cavalier</th>\n",
              "      <td>2605.0</td>\n",
              "      <td>1</td>\n",
              "    </tr>\n",
              "    <tr>\n",
              "      <th>chevrolet cavalier wagon</th>\n",
              "      <td>2640.0</td>\n",
              "      <td>1</td>\n",
              "    </tr>\n",
              "    <tr>\n",
              "      <th>chevrolet cavalier 2-door</th>\n",
              "      <td>2395.0</td>\n",
              "      <td>1</td>\n",
              "    </tr>\n",
              "    <tr>\n",
              "      <th>pontiac j2000 se hatchback</th>\n",
              "      <td>2575.0</td>\n",
              "      <td>1</td>\n",
              "    </tr>\n",
              "    <tr>\n",
              "      <th>dodge aries se</th>\n",
              "      <td>2525.0</td>\n",
              "      <td>1</td>\n",
              "    </tr>\n",
              "    <tr>\n",
              "      <th>pontiac phoenix</th>\n",
              "      <td>2735.0</td>\n",
              "      <td>1</td>\n",
              "    </tr>\n",
              "    <tr>\n",
              "      <th>ford fairmont futura</th>\n",
              "      <td>2865.0</td>\n",
              "      <td>1</td>\n",
              "    </tr>\n",
              "    <tr>\n",
              "      <th>volkswagen rabbit l</th>\n",
              "      <td>1980.0</td>\n",
              "      <td>2</td>\n",
              "    </tr>\n",
              "    <tr>\n",
              "      <th>mazda glc custom l</th>\n",
              "      <td>2025.0</td>\n",
              "      <td>3</td>\n",
              "    </tr>\n",
              "    <tr>\n",
              "      <th>mazda glc custom</th>\n",
              "      <td>1970.0</td>\n",
              "      <td>3</td>\n",
              "    </tr>\n",
              "    <tr>\n",
              "      <th>plymouth horizon miser</th>\n",
              "      <td>2125.0</td>\n",
              "      <td>1</td>\n",
              "    </tr>\n",
              "    <tr>\n",
              "      <th>mercury lynx l</th>\n",
              "      <td>2125.0</td>\n",
              "      <td>1</td>\n",
              "    </tr>\n",
              "    <tr>\n",
              "      <th>nissan stanza xe</th>\n",
              "      <td>2160.0</td>\n",
              "      <td>3</td>\n",
              "    </tr>\n",
              "    <tr>\n",
              "      <th>honda accord</th>\n",
              "      <td>2205.0</td>\n",
              "      <td>3</td>\n",
              "    </tr>\n",
              "    <tr>\n",
              "      <th>toyota corolla</th>\n",
              "      <td>2245.0</td>\n",
              "      <td>3</td>\n",
              "    </tr>\n",
              "    <tr>\n",
              "      <th>honda civic</th>\n",
              "      <td>1965.0</td>\n",
              "      <td>3</td>\n",
              "    </tr>\n",
              "    <tr>\n",
              "      <th>honda civic (auto)</th>\n",
              "      <td>1965.0</td>\n",
              "      <td>3</td>\n",
              "    </tr>\n",
              "    <tr>\n",
              "      <th>datsun 310 gx</th>\n",
              "      <td>1995.0</td>\n",
              "      <td>3</td>\n",
              "    </tr>\n",
              "    <tr>\n",
              "      <th>buick century limited</th>\n",
              "      <td>2945.0</td>\n",
              "      <td>1</td>\n",
              "    </tr>\n",
              "    <tr>\n",
              "      <th>oldsmobile cutlass ciera (diesel)</th>\n",
              "      <td>3015.0</td>\n",
              "      <td>1</td>\n",
              "    </tr>\n",
              "    <tr>\n",
              "      <th>chrysler lebaron medallion</th>\n",
              "      <td>2585.0</td>\n",
              "      <td>1</td>\n",
              "    </tr>\n",
              "    <tr>\n",
              "      <th>ford granada l</th>\n",
              "      <td>2835.0</td>\n",
              "      <td>1</td>\n",
              "    </tr>\n",
              "    <tr>\n",
              "      <th>toyota celica gt</th>\n",
              "      <td>2665.0</td>\n",
              "      <td>3</td>\n",
              "    </tr>\n",
              "    <tr>\n",
              "      <th>dodge charger 2.2</th>\n",
              "      <td>2370.0</td>\n",
              "      <td>1</td>\n",
              "    </tr>\n",
              "    <tr>\n",
              "      <th>chevrolet camaro</th>\n",
              "      <td>2950.0</td>\n",
              "      <td>1</td>\n",
              "    </tr>\n",
              "    <tr>\n",
              "      <th>ford mustang gl</th>\n",
              "      <td>2790.0</td>\n",
              "      <td>1</td>\n",
              "    </tr>\n",
              "    <tr>\n",
              "      <th>vw pickup</th>\n",
              "      <td>2130.0</td>\n",
              "      <td>2</td>\n",
              "    </tr>\n",
              "    <tr>\n",
              "      <th>dodge rampage</th>\n",
              "      <td>2295.0</td>\n",
              "      <td>1</td>\n",
              "    </tr>\n",
              "    <tr>\n",
              "      <th>ford ranger</th>\n",
              "      <td>2625.0</td>\n",
              "      <td>1</td>\n",
              "    </tr>\n",
              "    <tr>\n",
              "      <th>chevy s-10</th>\n",
              "      <td>2720.0</td>\n",
              "      <td>1</td>\n",
              "    </tr>\n",
              "  </tbody>\n",
              "</table>\n",
              "</div>"
            ],
            "text/plain": [
              "                                   weight  origin\n",
              "name                                             \n",
              "plymouth reliant                   2490.0       1\n",
              "buick skylark                      2635.0       1\n",
              "dodge aries wagon (sw)             2620.0       1\n",
              "chevrolet citation                 2725.0       1\n",
              "plymouth reliant                   2385.0       1\n",
              "toyota starlet                     1755.0       3\n",
              "plymouth champ                     1875.0       1\n",
              "honda civic 1300                   1760.0       3\n",
              "subaru                             2065.0       3\n",
              "datsun 210 mpg                     1975.0       3\n",
              "toyota tercel                      2050.0       3\n",
              "mazda glc 4                        1985.0       3\n",
              "plymouth horizon 4                 2215.0       1\n",
              "ford escort 4w                     2045.0       1\n",
              "ford escort 2h                     2380.0       1\n",
              "volkswagen jetta                   2190.0       2\n",
              "honda prelude                      2210.0       3\n",
              "toyota corolla                     2350.0       3\n",
              "datsun 200sx                       2615.0       3\n",
              "mazda 626                          2635.0       3\n",
              "peugeot 505s turbo diesel          3230.0       2\n",
              "volvo diesel                       3160.0       2\n",
              "toyota cressida                    2900.0       3\n",
              "datsun 810 maxima                  2930.0       3\n",
              "buick century                      3415.0       1\n",
              "oldsmobile cutlass ls              3725.0       1\n",
              "ford granada gl                    3060.0       1\n",
              "chrysler lebaron salon             3465.0       1\n",
              "chevrolet cavalier                 2605.0       1\n",
              "chevrolet cavalier wagon           2640.0       1\n",
              "chevrolet cavalier 2-door          2395.0       1\n",
              "pontiac j2000 se hatchback         2575.0       1\n",
              "dodge aries se                     2525.0       1\n",
              "pontiac phoenix                    2735.0       1\n",
              "ford fairmont futura               2865.0       1\n",
              "volkswagen rabbit l                1980.0       2\n",
              "mazda glc custom l                 2025.0       3\n",
              "mazda glc custom                   1970.0       3\n",
              "plymouth horizon miser             2125.0       1\n",
              "mercury lynx l                     2125.0       1\n",
              "nissan stanza xe                   2160.0       3\n",
              "honda accord                       2205.0       3\n",
              "toyota corolla                     2245.0       3\n",
              "honda civic                        1965.0       3\n",
              "honda civic (auto)                 1965.0       3\n",
              "datsun 310 gx                      1995.0       3\n",
              "buick century limited              2945.0       1\n",
              "oldsmobile cutlass ciera (diesel)  3015.0       1\n",
              "chrysler lebaron medallion         2585.0       1\n",
              "ford granada l                     2835.0       1\n",
              "toyota celica gt                   2665.0       3\n",
              "dodge charger 2.2                  2370.0       1\n",
              "chevrolet camaro                   2950.0       1\n",
              "ford mustang gl                    2790.0       1\n",
              "vw pickup                          2130.0       2\n",
              "dodge rampage                      2295.0       1\n",
              "ford ranger                        2625.0       1\n",
              "chevy s-10                         2720.0       1"
            ]
          },
          "execution_count": 19,
          "metadata": {},
          "output_type": "execute_result"
        }
      ],
      "source": [
        "df.loc[df[\"year\"] > 80, [\"weight\", \"origin\"]]"
      ]
    },
    {
      "cell_type": "code",
      "execution_count": 20,
      "metadata": {},
      "outputs": [
        {
          "data": {
            "text/html": [
              "<div>\n",
              "<style scoped>\n",
              "    .dataframe tbody tr th:only-of-type {\n",
              "        vertical-align: middle;\n",
              "    }\n",
              "\n",
              "    .dataframe tbody tr th {\n",
              "        vertical-align: top;\n",
              "    }\n",
              "\n",
              "    .dataframe thead th {\n",
              "        text-align: right;\n",
              "    }\n",
              "</style>\n",
              "<table border=\"1\" class=\"dataframe\">\n",
              "  <thead>\n",
              "    <tr style=\"text-align: right;\">\n",
              "      <th></th>\n",
              "      <th>weight</th>\n",
              "      <th>origin</th>\n",
              "    </tr>\n",
              "    <tr>\n",
              "      <th>name</th>\n",
              "      <th></th>\n",
              "      <th></th>\n",
              "    </tr>\n",
              "  </thead>\n",
              "  <tbody>\n",
              "    <tr>\n",
              "      <th>toyota starlet</th>\n",
              "      <td>1755.0</td>\n",
              "      <td>3</td>\n",
              "    </tr>\n",
              "    <tr>\n",
              "      <th>plymouth champ</th>\n",
              "      <td>1875.0</td>\n",
              "      <td>1</td>\n",
              "    </tr>\n",
              "    <tr>\n",
              "      <th>honda civic 1300</th>\n",
              "      <td>1760.0</td>\n",
              "      <td>3</td>\n",
              "    </tr>\n",
              "    <tr>\n",
              "      <th>subaru</th>\n",
              "      <td>2065.0</td>\n",
              "      <td>3</td>\n",
              "    </tr>\n",
              "    <tr>\n",
              "      <th>datsun 210 mpg</th>\n",
              "      <td>1975.0</td>\n",
              "      <td>3</td>\n",
              "    </tr>\n",
              "    <tr>\n",
              "      <th>toyota tercel</th>\n",
              "      <td>2050.0</td>\n",
              "      <td>3</td>\n",
              "    </tr>\n",
              "    <tr>\n",
              "      <th>mazda glc 4</th>\n",
              "      <td>1985.0</td>\n",
              "      <td>3</td>\n",
              "    </tr>\n",
              "    <tr>\n",
              "      <th>plymouth horizon 4</th>\n",
              "      <td>2215.0</td>\n",
              "      <td>1</td>\n",
              "    </tr>\n",
              "    <tr>\n",
              "      <th>ford escort 4w</th>\n",
              "      <td>2045.0</td>\n",
              "      <td>1</td>\n",
              "    </tr>\n",
              "    <tr>\n",
              "      <th>volkswagen jetta</th>\n",
              "      <td>2190.0</td>\n",
              "      <td>2</td>\n",
              "    </tr>\n",
              "    <tr>\n",
              "      <th>honda prelude</th>\n",
              "      <td>2210.0</td>\n",
              "      <td>3</td>\n",
              "    </tr>\n",
              "    <tr>\n",
              "      <th>toyota corolla</th>\n",
              "      <td>2350.0</td>\n",
              "      <td>3</td>\n",
              "    </tr>\n",
              "    <tr>\n",
              "      <th>datsun 200sx</th>\n",
              "      <td>2615.0</td>\n",
              "      <td>3</td>\n",
              "    </tr>\n",
              "    <tr>\n",
              "      <th>mazda 626</th>\n",
              "      <td>2635.0</td>\n",
              "      <td>3</td>\n",
              "    </tr>\n",
              "    <tr>\n",
              "      <th>volvo diesel</th>\n",
              "      <td>3160.0</td>\n",
              "      <td>2</td>\n",
              "    </tr>\n",
              "    <tr>\n",
              "      <th>chevrolet cavalier 2-door</th>\n",
              "      <td>2395.0</td>\n",
              "      <td>1</td>\n",
              "    </tr>\n",
              "    <tr>\n",
              "      <th>pontiac j2000 se hatchback</th>\n",
              "      <td>2575.0</td>\n",
              "      <td>1</td>\n",
              "    </tr>\n",
              "    <tr>\n",
              "      <th>volkswagen rabbit l</th>\n",
              "      <td>1980.0</td>\n",
              "      <td>2</td>\n",
              "    </tr>\n",
              "    <tr>\n",
              "      <th>mazda glc custom l</th>\n",
              "      <td>2025.0</td>\n",
              "      <td>3</td>\n",
              "    </tr>\n",
              "    <tr>\n",
              "      <th>mazda glc custom</th>\n",
              "      <td>1970.0</td>\n",
              "      <td>3</td>\n",
              "    </tr>\n",
              "    <tr>\n",
              "      <th>plymouth horizon miser</th>\n",
              "      <td>2125.0</td>\n",
              "      <td>1</td>\n",
              "    </tr>\n",
              "    <tr>\n",
              "      <th>mercury lynx l</th>\n",
              "      <td>2125.0</td>\n",
              "      <td>1</td>\n",
              "    </tr>\n",
              "    <tr>\n",
              "      <th>nissan stanza xe</th>\n",
              "      <td>2160.0</td>\n",
              "      <td>3</td>\n",
              "    </tr>\n",
              "    <tr>\n",
              "      <th>honda accord</th>\n",
              "      <td>2205.0</td>\n",
              "      <td>3</td>\n",
              "    </tr>\n",
              "    <tr>\n",
              "      <th>toyota corolla</th>\n",
              "      <td>2245.0</td>\n",
              "      <td>3</td>\n",
              "    </tr>\n",
              "    <tr>\n",
              "      <th>honda civic</th>\n",
              "      <td>1965.0</td>\n",
              "      <td>3</td>\n",
              "    </tr>\n",
              "    <tr>\n",
              "      <th>honda civic (auto)</th>\n",
              "      <td>1965.0</td>\n",
              "      <td>3</td>\n",
              "    </tr>\n",
              "    <tr>\n",
              "      <th>datsun 310 gx</th>\n",
              "      <td>1995.0</td>\n",
              "      <td>3</td>\n",
              "    </tr>\n",
              "    <tr>\n",
              "      <th>oldsmobile cutlass ciera (diesel)</th>\n",
              "      <td>3015.0</td>\n",
              "      <td>1</td>\n",
              "    </tr>\n",
              "    <tr>\n",
              "      <th>toyota celica gt</th>\n",
              "      <td>2665.0</td>\n",
              "      <td>3</td>\n",
              "    </tr>\n",
              "    <tr>\n",
              "      <th>dodge charger 2.2</th>\n",
              "      <td>2370.0</td>\n",
              "      <td>1</td>\n",
              "    </tr>\n",
              "    <tr>\n",
              "      <th>vw pickup</th>\n",
              "      <td>2130.0</td>\n",
              "      <td>2</td>\n",
              "    </tr>\n",
              "    <tr>\n",
              "      <th>dodge rampage</th>\n",
              "      <td>2295.0</td>\n",
              "      <td>1</td>\n",
              "    </tr>\n",
              "    <tr>\n",
              "      <th>chevy s-10</th>\n",
              "      <td>2720.0</td>\n",
              "      <td>1</td>\n",
              "    </tr>\n",
              "  </tbody>\n",
              "</table>\n",
              "</div>"
            ],
            "text/plain": [
              "                                   weight  origin\n",
              "name                                             \n",
              "toyota starlet                     1755.0       3\n",
              "plymouth champ                     1875.0       1\n",
              "honda civic 1300                   1760.0       3\n",
              "subaru                             2065.0       3\n",
              "datsun 210 mpg                     1975.0       3\n",
              "toyota tercel                      2050.0       3\n",
              "mazda glc 4                        1985.0       3\n",
              "plymouth horizon 4                 2215.0       1\n",
              "ford escort 4w                     2045.0       1\n",
              "volkswagen jetta                   2190.0       2\n",
              "honda prelude                      2210.0       3\n",
              "toyota corolla                     2350.0       3\n",
              "datsun 200sx                       2615.0       3\n",
              "mazda 626                          2635.0       3\n",
              "volvo diesel                       3160.0       2\n",
              "chevrolet cavalier 2-door          2395.0       1\n",
              "pontiac j2000 se hatchback         2575.0       1\n",
              "volkswagen rabbit l                1980.0       2\n",
              "mazda glc custom l                 2025.0       3\n",
              "mazda glc custom                   1970.0       3\n",
              "plymouth horizon miser             2125.0       1\n",
              "mercury lynx l                     2125.0       1\n",
              "nissan stanza xe                   2160.0       3\n",
              "honda accord                       2205.0       3\n",
              "toyota corolla                     2245.0       3\n",
              "honda civic                        1965.0       3\n",
              "honda civic (auto)                 1965.0       3\n",
              "datsun 310 gx                      1995.0       3\n",
              "oldsmobile cutlass ciera (diesel)  3015.0       1\n",
              "toyota celica gt                   2665.0       3\n",
              "dodge charger 2.2                  2370.0       1\n",
              "vw pickup                          2130.0       2\n",
              "dodge rampage                      2295.0       1\n",
              "chevy s-10                         2720.0       1"
            ]
          },
          "execution_count": 20,
          "metadata": {},
          "output_type": "execute_result"
        }
      ],
      "source": [
        "df.loc[(df[\"year\"] > 80) & (df[\"mpg\"] > 30), [\"weight\", \"origin\"]]"
      ]
    },
    {
      "cell_type": "code",
      "execution_count": 21,
      "metadata": {},
      "outputs": [
        {
          "data": {
            "text/plain": [
              "(51, 2)"
            ]
          },
          "execution_count": 21,
          "metadata": {},
          "output_type": "execute_result"
        }
      ],
      "source": [
        "df.loc[\n",
        "    (df[\"displacement\"] < 300)\n",
        "    & (df.index.str.contains(\"ford\") | df.index.str.contains(\"datsun\")),\n",
        "    [\"weight\", \"origin\"],\n",
        "].shape"
      ]
    },
    {
      "cell_type": "markdown",
      "metadata": {},
      "source": [
        "## Using SQL"
      ]
    },
    {
      "cell_type": "code",
      "execution_count": 22,
      "metadata": {},
      "outputs": [
        {
          "data": {
            "text/plain": [
              "['Cars']"
            ]
          },
          "execution_count": 22,
          "metadata": {},
          "output_type": "execute_result"
        }
      ],
      "source": [
        "db = lancedb.connect(\"/Users/jernejfrank/Documents/code/probable-guacamole/db/.lancedb\")\n",
        "db.table_names()"
      ]
    },
    {
      "cell_type": "code",
      "execution_count": 23,
      "metadata": {},
      "outputs": [],
      "source": [
        "tbl = db.open_table(\"Cars\")\n",
        "cars_table = tbl.to_lance()"
      ]
    },
    {
      "cell_type": "code",
      "execution_count": 24,
      "metadata": {},
      "outputs": [
        {
          "data": {
            "text/plain": [
              "\u250c\u2500\u2500\u2500\u2500\u2500\u2500\u2500\u2500\u252c\u2500\u2500\u2500\u2500\u2500\u2500\u2500\u2500\u2500\u2500\u2500\u252c\u2500\u2500\u2500\u2500\u2500\u2500\u2500\u2500\u2500\u2500\u2500\u2500\u2500\u2500\u252c\u2500\u2500\u2500\u2500\u2500\u2500\u2500\u2500\u2500\u2500\u2500\u2500\u252c\u2500\u2500\u2500\u2500\u2500\u2500\u2500\u2500\u252c\u2500\u2500\u2500\u2500\u2500\u2500\u2500\u2500\u2500\u2500\u2500\u2500\u2500\u2500\u252c\u2500\u2500\u2500\u2500\u2500\u2500\u2500\u252c\u2500\u2500\u2500\u2500\u2500\u2500\u2500\u2500\u252c\u2500\u2500\u2500\u2500\u2500\u2500\u2500\u2500\u2500\u2500\u2500\u2500\u2500\u2500\u2500\u2500\u2500\u2500\u2500\u2500\u2500\u2500\u2500\u2500\u2500\u2500\u2500\u2500\u2510\n",
              "\u2502  mpg   \u2502 cylinders \u2502 displacement \u2502 horsepower \u2502 weight \u2502 acceleration \u2502 year  \u2502 origin \u2502            name            \u2502\n",
              "\u2502 double \u2502   int64   \u2502    double    \u2502  varchar   \u2502 int64  \u2502    double    \u2502 int64 \u2502 int64  \u2502          varchar           \u2502\n",
              "\u251c\u2500\u2500\u2500\u2500\u2500\u2500\u2500\u2500\u253c\u2500\u2500\u2500\u2500\u2500\u2500\u2500\u2500\u2500\u2500\u2500\u253c\u2500\u2500\u2500\u2500\u2500\u2500\u2500\u2500\u2500\u2500\u2500\u2500\u2500\u2500\u253c\u2500\u2500\u2500\u2500\u2500\u2500\u2500\u2500\u2500\u2500\u2500\u2500\u253c\u2500\u2500\u2500\u2500\u2500\u2500\u2500\u2500\u253c\u2500\u2500\u2500\u2500\u2500\u2500\u2500\u2500\u2500\u2500\u2500\u2500\u2500\u2500\u253c\u2500\u2500\u2500\u2500\u2500\u2500\u2500\u253c\u2500\u2500\u2500\u2500\u2500\u2500\u2500\u2500\u253c\u2500\u2500\u2500\u2500\u2500\u2500\u2500\u2500\u2500\u2500\u2500\u2500\u2500\u2500\u2500\u2500\u2500\u2500\u2500\u2500\u2500\u2500\u2500\u2500\u2500\u2500\u2500\u2500\u2524\n",
              "\u2502   18.0 \u2502         8 \u2502        307.0 \u2502 130        \u2502   3504 \u2502         12.0 \u2502    70 \u2502      1 \u2502 chevrolet chevelle malibu  \u2502\n",
              "\u2502   15.0 \u2502         8 \u2502        350.0 \u2502 165        \u2502   3693 \u2502         11.5 \u2502    70 \u2502      1 \u2502 buick skylark 320          \u2502\n",
              "\u2502   18.0 \u2502         8 \u2502        318.0 \u2502 150        \u2502   3436 \u2502         11.0 \u2502    70 \u2502      1 \u2502 plymouth satellite         \u2502\n",
              "\u2502   16.0 \u2502         8 \u2502        304.0 \u2502 150        \u2502   3433 \u2502         12.0 \u2502    70 \u2502      1 \u2502 amc rebel sst              \u2502\n",
              "\u2502   17.0 \u2502         8 \u2502        302.0 \u2502 140        \u2502   3449 \u2502         10.5 \u2502    70 \u2502      1 \u2502 ford torino                \u2502\n",
              "\u2502   15.0 \u2502         8 \u2502        429.0 \u2502 198        \u2502   4341 \u2502         10.0 \u2502    70 \u2502      1 \u2502 ford galaxie 500           \u2502\n",
              "\u2502   14.0 \u2502         8 \u2502        454.0 \u2502 220        \u2502   4354 \u2502          9.0 \u2502    70 \u2502      1 \u2502 chevrolet impala           \u2502\n",
              "\u2502   14.0 \u2502         8 \u2502        440.0 \u2502 215        \u2502   4312 \u2502          8.5 \u2502    70 \u2502      1 \u2502 plymouth fury iii          \u2502\n",
              "\u2502   14.0 \u2502         8 \u2502        455.0 \u2502 225        \u2502   4425 \u2502         10.0 \u2502    70 \u2502      1 \u2502 pontiac catalina           \u2502\n",
              "\u2502   15.0 \u2502         8 \u2502        390.0 \u2502 190        \u2502   3850 \u2502          8.5 \u2502    70 \u2502      1 \u2502 amc ambassador dpl         \u2502\n",
              "\u2502     \u00b7  \u2502         \u00b7 \u2502          \u00b7   \u2502 \u00b7          \u2502     \u00b7  \u2502           \u00b7  \u2502     \u00b7 \u2502      \u00b7 \u2502         \u00b7                  \u2502\n",
              "\u2502     \u00b7  \u2502         \u00b7 \u2502          \u00b7   \u2502 \u00b7          \u2502     \u00b7  \u2502           \u00b7  \u2502     \u00b7 \u2502      \u00b7 \u2502         \u00b7                  \u2502\n",
              "\u2502     \u00b7  \u2502         \u00b7 \u2502          \u00b7   \u2502 \u00b7          \u2502     \u00b7  \u2502           \u00b7  \u2502     \u00b7 \u2502      \u00b7 \u2502         \u00b7                  \u2502\n",
              "\u2502   26.0 \u2502         4 \u2502        156.0 \u2502 92         \u2502   2585 \u2502         14.5 \u2502    82 \u2502      1 \u2502 chrysler lebaron medallion \u2502\n",
              "\u2502   22.0 \u2502         6 \u2502        232.0 \u2502 112        \u2502   2835 \u2502         14.7 \u2502    82 \u2502      1 \u2502 ford granada l             \u2502\n",
              "\u2502   32.0 \u2502         4 \u2502        144.0 \u2502 96         \u2502   2665 \u2502         13.9 \u2502    82 \u2502      3 \u2502 toyota celica gt           \u2502\n",
              "\u2502   36.0 \u2502         4 \u2502        135.0 \u2502 84         \u2502   2370 \u2502         13.0 \u2502    82 \u2502      1 \u2502 dodge charger 2.2          \u2502\n",
              "\u2502   27.0 \u2502         4 \u2502        151.0 \u2502 90         \u2502   2950 \u2502         17.3 \u2502    82 \u2502      1 \u2502 chevrolet camaro           \u2502\n",
              "\u2502   27.0 \u2502         4 \u2502        140.0 \u2502 86         \u2502   2790 \u2502         15.6 \u2502    82 \u2502      1 \u2502 ford mustang gl            \u2502\n",
              "\u2502   44.0 \u2502         4 \u2502         97.0 \u2502 52         \u2502   2130 \u2502         24.6 \u2502    82 \u2502      2 \u2502 vw pickup                  \u2502\n",
              "\u2502   32.0 \u2502         4 \u2502        135.0 \u2502 84         \u2502   2295 \u2502         11.6 \u2502    82 \u2502      1 \u2502 dodge rampage              \u2502\n",
              "\u2502   28.0 \u2502         4 \u2502        120.0 \u2502 79         \u2502   2625 \u2502         18.6 \u2502    82 \u2502      1 \u2502 ford ranger                \u2502\n",
              "\u2502   31.0 \u2502         4 \u2502        119.0 \u2502 82         \u2502   2720 \u2502         19.4 \u2502    82 \u2502      1 \u2502 chevy s-10                 \u2502\n",
              "\u251c\u2500\u2500\u2500\u2500\u2500\u2500\u2500\u2500\u2534\u2500\u2500\u2500\u2500\u2500\u2500\u2500\u2500\u2500\u2500\u2500\u2534\u2500\u2500\u2500\u2500\u2500\u2500\u2500\u2500\u2500\u2500\u2500\u2500\u2500\u2500\u2534\u2500\u2500\u2500\u2500\u2500\u2500\u2500\u2500\u2500\u2500\u2500\u2500\u2534\u2500\u2500\u2500\u2500\u2500\u2500\u2500\u2500\u2534\u2500\u2500\u2500\u2500\u2500\u2500\u2500\u2500\u2500\u2500\u2500\u2500\u2500\u2500\u2534\u2500\u2500\u2500\u2500\u2500\u2500\u2500\u2534\u2500\u2500\u2500\u2500\u2500\u2500\u2500\u2500\u2534\u2500\u2500\u2500\u2500\u2500\u2500\u2500\u2500\u2500\u2500\u2500\u2500\u2500\u2500\u2500\u2500\u2500\u2500\u2500\u2500\u2500\u2500\u2500\u2500\u2500\u2500\u2500\u2500\u2524\n",
              "\u2502 397 rows (20 shown)                                                                                        9 columns \u2502\n",
              "\u2514\u2500\u2500\u2500\u2500\u2500\u2500\u2500\u2500\u2500\u2500\u2500\u2500\u2500\u2500\u2500\u2500\u2500\u2500\u2500\u2500\u2500\u2500\u2500\u2500\u2500\u2500\u2500\u2500\u2500\u2500\u2500\u2500\u2500\u2500\u2500\u2500\u2500\u2500\u2500\u2500\u2500\u2500\u2500\u2500\u2500\u2500\u2500\u2500\u2500\u2500\u2500\u2500\u2500\u2500\u2500\u2500\u2500\u2500\u2500\u2500\u2500\u2500\u2500\u2500\u2500\u2500\u2500\u2500\u2500\u2500\u2500\u2500\u2500\u2500\u2500\u2500\u2500\u2500\u2500\u2500\u2500\u2500\u2500\u2500\u2500\u2500\u2500\u2500\u2500\u2500\u2500\u2500\u2500\u2500\u2500\u2500\u2500\u2500\u2500\u2500\u2500\u2500\u2500\u2500\u2500\u2500\u2500\u2500\u2500\u2500\u2500\u2500\u2500\u2500\u2500\u2500\u2500\u2500\u2518"
            ]
          },
          "execution_count": 24,
          "metadata": {},
          "output_type": "execute_result"
        }
      ],
      "source": [
        "duckdb.query(\"SELECT * FROM cars_table\")"
      ]
    },
    {
      "cell_type": "code",
      "execution_count": 25,
      "metadata": {},
      "outputs": [
        {
          "data": {
            "text/plain": [
              "\u250c\u2500\u2500\u2500\u2500\u2500\u2500\u2500\u252c\u2500\u2500\u2500\u2500\u2500\u2500\u2500\u2500\u252c\u2500\u2500\u2500\u2500\u2500\u2500\u2500\u2500\u2510\n",
              "\u2502 year  \u2502 weight \u2502 origin \u2502\n",
              "\u2502 int64 \u2502 int64  \u2502 int64  \u2502\n",
              "\u251c\u2500\u2500\u2500\u2500\u2500\u2500\u2500\u253c\u2500\u2500\u2500\u2500\u2500\u2500\u2500\u2500\u253c\u2500\u2500\u2500\u2500\u2500\u2500\u2500\u2500\u2524\n",
              "\u2502    81 \u2502   2490 \u2502      1 \u2502\n",
              "\u2502    81 \u2502   2635 \u2502      1 \u2502\n",
              "\u2502    81 \u2502   2620 \u2502      1 \u2502\n",
              "\u2502    81 \u2502   2725 \u2502      1 \u2502\n",
              "\u2502    81 \u2502   2385 \u2502      1 \u2502\n",
              "\u2502    81 \u2502   1755 \u2502      3 \u2502\n",
              "\u2502    81 \u2502   1875 \u2502      1 \u2502\n",
              "\u2502    81 \u2502   1760 \u2502      3 \u2502\n",
              "\u2502    81 \u2502   2065 \u2502      3 \u2502\n",
              "\u2502    81 \u2502   1975 \u2502      3 \u2502\n",
              "\u2502     \u00b7 \u2502     \u00b7  \u2502      \u00b7 \u2502\n",
              "\u2502     \u00b7 \u2502     \u00b7  \u2502      \u00b7 \u2502\n",
              "\u2502     \u00b7 \u2502     \u00b7  \u2502      \u00b7 \u2502\n",
              "\u2502    82 \u2502   2585 \u2502      1 \u2502\n",
              "\u2502    82 \u2502   2835 \u2502      1 \u2502\n",
              "\u2502    82 \u2502   2665 \u2502      3 \u2502\n",
              "\u2502    82 \u2502   2370 \u2502      1 \u2502\n",
              "\u2502    82 \u2502   2950 \u2502      1 \u2502\n",
              "\u2502    82 \u2502   2790 \u2502      1 \u2502\n",
              "\u2502    82 \u2502   2130 \u2502      2 \u2502\n",
              "\u2502    82 \u2502   2295 \u2502      1 \u2502\n",
              "\u2502    82 \u2502   2625 \u2502      1 \u2502\n",
              "\u2502    82 \u2502   2720 \u2502      1 \u2502\n",
              "\u251c\u2500\u2500\u2500\u2500\u2500\u2500\u2500\u2534\u2500\u2500\u2500\u2500\u2500\u2500\u2500\u2500\u2534\u2500\u2500\u2500\u2500\u2500\u2500\u2500\u2500\u2524\n",
              "\u2502   59 rows (20 shown)    \u2502\n",
              "\u2514\u2500\u2500\u2500\u2500\u2500\u2500\u2500\u2500\u2500\u2500\u2500\u2500\u2500\u2500\u2500\u2500\u2500\u2500\u2500\u2500\u2500\u2500\u2500\u2500\u2500\u2518"
            ]
          },
          "execution_count": 25,
          "metadata": {},
          "output_type": "execute_result"
        }
      ],
      "source": [
        "duckdb.query(\"SELECT year, weight , origin FROM cars_table WHERE year > 80\")"
      ]
    },
    {
      "cell_type": "code",
      "execution_count": 26,
      "metadata": {},
      "outputs": [
        {
          "data": {
            "text/plain": [
              "\u250c\u2500\u2500\u2500\u2500\u2500\u2500\u2500\u252c\u2500\u2500\u2500\u2500\u2500\u2500\u2500\u2500\u252c\u2500\u2500\u2500\u2500\u2500\u2500\u2500\u2500\u2510\n",
              "\u2502 year  \u2502 weight \u2502 origin \u2502\n",
              "\u2502 int64 \u2502 int64  \u2502 int64  \u2502\n",
              "\u251c\u2500\u2500\u2500\u2500\u2500\u2500\u2500\u253c\u2500\u2500\u2500\u2500\u2500\u2500\u2500\u2500\u253c\u2500\u2500\u2500\u2500\u2500\u2500\u2500\u2500\u2524\n",
              "\u2502    81 \u2502   1755 \u2502      3 \u2502\n",
              "\u2502    81 \u2502   1875 \u2502      1 \u2502\n",
              "\u2502    81 \u2502   1760 \u2502      3 \u2502\n",
              "\u2502    81 \u2502   2065 \u2502      3 \u2502\n",
              "\u2502    81 \u2502   1975 \u2502      3 \u2502\n",
              "\u2502    81 \u2502   2050 \u2502      3 \u2502\n",
              "\u2502    81 \u2502   1985 \u2502      3 \u2502\n",
              "\u2502    81 \u2502   2215 \u2502      1 \u2502\n",
              "\u2502    81 \u2502   2045 \u2502      1 \u2502\n",
              "\u2502    81 \u2502   2190 \u2502      2 \u2502\n",
              "\u2502     \u00b7 \u2502     \u00b7  \u2502      \u00b7 \u2502\n",
              "\u2502     \u00b7 \u2502     \u00b7  \u2502      \u00b7 \u2502\n",
              "\u2502     \u00b7 \u2502     \u00b7  \u2502      \u00b7 \u2502\n",
              "\u2502    82 \u2502   2245 \u2502      3 \u2502\n",
              "\u2502    82 \u2502   1965 \u2502      3 \u2502\n",
              "\u2502    82 \u2502   1965 \u2502      3 \u2502\n",
              "\u2502    82 \u2502   1995 \u2502      3 \u2502\n",
              "\u2502    82 \u2502   3015 \u2502      1 \u2502\n",
              "\u2502    82 \u2502   2665 \u2502      3 \u2502\n",
              "\u2502    82 \u2502   2370 \u2502      1 \u2502\n",
              "\u2502    82 \u2502   2130 \u2502      2 \u2502\n",
              "\u2502    82 \u2502   2295 \u2502      1 \u2502\n",
              "\u2502    82 \u2502   2720 \u2502      1 \u2502\n",
              "\u251c\u2500\u2500\u2500\u2500\u2500\u2500\u2500\u2534\u2500\u2500\u2500\u2500\u2500\u2500\u2500\u2500\u2534\u2500\u2500\u2500\u2500\u2500\u2500\u2500\u2500\u2524\n",
              "\u2502   35 rows (20 shown)    \u2502\n",
              "\u2514\u2500\u2500\u2500\u2500\u2500\u2500\u2500\u2500\u2500\u2500\u2500\u2500\u2500\u2500\u2500\u2500\u2500\u2500\u2500\u2500\u2500\u2500\u2500\u2500\u2500\u2518"
            ]
          },
          "execution_count": 26,
          "metadata": {},
          "output_type": "execute_result"
        }
      ],
      "source": [
        "duckdb.query(\n",
        "    \"SELECT year\"\n",
        "    \", weight \"\n",
        "    \", origin \"\n",
        "    \"FROM cars_table \"\n",
        "    \"WHERE 1=1 \"\n",
        "    \"AND year > 80 \"\n",
        "    \"AND mpg > 30\"\n",
        ")"
      ]
    },
    {
      "cell_type": "code",
      "execution_count": 27,
      "metadata": {},
      "outputs": [
        {
          "data": {
            "text/plain": [
              "\u250c\u2500\u2500\u2500\u2500\u2500\u2500\u2500\u2500\u2500\u2500\u2500\u2500\u2500\u2500\u2500\u2500\u2500\u2500\u2500\u2500\u2500\u2500\u252c\u2500\u2500\u2500\u2500\u2500\u2500\u2500\u2500\u252c\u2500\u2500\u2500\u2500\u2500\u2500\u2500\u2500\u252c\u2500\u2500\u2500\u2500\u2500\u2500\u2500\u2500\u2500\u2500\u2500\u2500\u2500\u2500\u2510\n",
              "\u2502         name         \u2502 weight \u2502 origin \u2502 displacement \u2502\n",
              "\u2502       varchar        \u2502 int64  \u2502 int64  \u2502    double    \u2502\n",
              "\u251c\u2500\u2500\u2500\u2500\u2500\u2500\u2500\u2500\u2500\u2500\u2500\u2500\u2500\u2500\u2500\u2500\u2500\u2500\u2500\u2500\u2500\u2500\u253c\u2500\u2500\u2500\u2500\u2500\u2500\u2500\u2500\u253c\u2500\u2500\u2500\u2500\u2500\u2500\u2500\u2500\u253c\u2500\u2500\u2500\u2500\u2500\u2500\u2500\u2500\u2500\u2500\u2500\u2500\u2500\u2500\u2524\n",
              "\u2502 ford maverick        \u2502   2587 \u2502      1 \u2502        200.0 \u2502\n",
              "\u2502 ford pinto           \u2502   2046 \u2502      1 \u2502         98.0 \u2502\n",
              "\u2502 ford torino 500      \u2502   3302 \u2502      1 \u2502        250.0 \u2502\n",
              "\u2502 ford mustang         \u2502   3139 \u2502      1 \u2502        250.0 \u2502\n",
              "\u2502 ford pinto runabout  \u2502   2226 \u2502      1 \u2502        122.0 \u2502\n",
              "\u2502 ford pinto (sw)      \u2502   2395 \u2502      1 \u2502        122.0 \u2502\n",
              "\u2502 ford maverick        \u2502   3021 \u2502      1 \u2502        250.0 \u2502\n",
              "\u2502 ford pinto           \u2502   2310 \u2502      1 \u2502        122.0 \u2502\n",
              "\u2502 ford maverick        \u2502   2875 \u2502      1 \u2502        200.0 \u2502\n",
              "\u2502 ford pinto           \u2502   2451 \u2502      1 \u2502        122.0 \u2502\n",
              "\u2502     \u00b7                \u2502     \u00b7  \u2502      \u00b7 \u2502          \u00b7   \u2502\n",
              "\u2502     \u00b7                \u2502     \u00b7  \u2502      \u00b7 \u2502          \u00b7   \u2502\n",
              "\u2502     \u00b7                \u2502     \u00b7  \u2502      \u00b7 \u2502          \u00b7   \u2502\n",
              "\u2502 datsun 200-sx        \u2502   2405 \u2502      3 \u2502        119.0 \u2502\n",
              "\u2502 datsun 210           \u2502   2020 \u2502      3 \u2502         85.0 \u2502\n",
              "\u2502 datsun 310           \u2502   2019 \u2502      3 \u2502         86.0 \u2502\n",
              "\u2502 datsun 510 hatchback \u2502   2434 \u2502      3 \u2502        119.0 \u2502\n",
              "\u2502 datsun 210           \u2502   2110 \u2502      3 \u2502         85.0 \u2502\n",
              "\u2502 datsun 280-zx        \u2502   2910 \u2502      3 \u2502        168.0 \u2502\n",
              "\u2502 datsun 210 mpg       \u2502   1975 \u2502      3 \u2502         85.0 \u2502\n",
              "\u2502 datsun 200sx         \u2502   2615 \u2502      3 \u2502        119.0 \u2502\n",
              "\u2502 datsun 810 maxima    \u2502   2930 \u2502      3 \u2502        146.0 \u2502\n",
              "\u2502 datsun 310 gx        \u2502   1995 \u2502      3 \u2502         91.0 \u2502\n",
              "\u251c\u2500\u2500\u2500\u2500\u2500\u2500\u2500\u2500\u2500\u2500\u2500\u2500\u2500\u2500\u2500\u2500\u2500\u2500\u2500\u2500\u2500\u2500\u2534\u2500\u2500\u2500\u2500\u2500\u2500\u2500\u2500\u2534\u2500\u2500\u2500\u2500\u2500\u2500\u2500\u2500\u2534\u2500\u2500\u2500\u2500\u2500\u2500\u2500\u2500\u2500\u2500\u2500\u2500\u2500\u2500\u2524\n",
              "\u2502 54 rows (20 shown)                          4 columns \u2502\n",
              "\u2514\u2500\u2500\u2500\u2500\u2500\u2500\u2500\u2500\u2500\u2500\u2500\u2500\u2500\u2500\u2500\u2500\u2500\u2500\u2500\u2500\u2500\u2500\u2500\u2500\u2500\u2500\u2500\u2500\u2500\u2500\u2500\u2500\u2500\u2500\u2500\u2500\u2500\u2500\u2500\u2500\u2500\u2500\u2500\u2500\u2500\u2500\u2500\u2500\u2500\u2500\u2500\u2500\u2500\u2500\u2500\u2518"
            ]
          },
          "execution_count": 27,
          "metadata": {},
          "output_type": "execute_result"
        }
      ],
      "source": [
        "duckdb.query(\n",
        "    \"SELECT name\"\n",
        "    \", weight \"\n",
        "    \", origin \"\n",
        "    \", displacement \"\n",
        "    \"FROM cars_table as t \"\n",
        "    \"WHERE 1=1 \"\n",
        "    \"AND t.displacement < 300 \"\n",
        "    \"AND (t.name LIKE '%ford%' OR t.name LIKE '%datsun%')\"\n",
        ")"
      ]
    },
    {
      "cell_type": "markdown",
      "metadata": {},
      "source": [
        "# Visualising"
      ]
    },
    {
      "cell_type": "code",
      "execution_count": 32,
      "metadata": {},
      "outputs": [
        {
          "data": {
            "text/plain": [
              "<Axes: xlabel='horsepower', ylabel='mpg'>"
            ]
          },
          "execution_count": 32,
          "metadata": {},
          "output_type": "execute_result"
        },
        {
          "data": {
            "image/png": "[encoded data removed]",
            "text/plain": [
              "<Figure size 640x480 with 1 Axes>"
            ]
          },
          "metadata": {},
          "output_type": "display_data"
        }
      ],
      "source": [
        "df.plot.scatter(\"horsepower\", \"mpg\")"
      ]
    },
    {
      "cell_type": "code",
      "execution_count": 33,
      "metadata": {},
      "outputs": [
        {
          "data": {
            "application/vnd.plotly.v1+json": {
              "config": {
                "plotlyServerURL": "https://plot.ly"
              },
              "data": [
                {
                  "alignmentgroup": "True",
                  "hovertemplate": "cylinders=%{x}<br>mpg=%{y}<extra></extra>",
                  "legendgroup": "",
                  "marker": {
                    "color": "#636efa"
                  },
                  "name": "",
                  "notched": false,
                  "offsetgroup": "",
                  "orientation": "v",
                  "showlegend": false,
                  "type": "box",
                  "x": [
                    8,
                    8,
                    8,
                    8,
                    8,
                    8,
                    8,
                    8,
                    8,
                    8,
                    8,
                    8,
                    8,
                    8,
                    4,
                    6,
                    6,
                    6,
                    4,
                    4,
                    4,
                    4,
                    4,
                    4,
                    6,
                    8,
                    8,
                    8,
                    8,
                    4,
                    4,
                    4,
                    6,
                    6,
                    6,
                    6,
                    6,
                    8,
                    8,
                    8,
                    8,
                    8,
                    8,
                    8,
                    6,
                    4,
                    6,
                    6,
                    4,
                    4,
                    4,
                    4,
                    4,
                    4,
                    4,
                    4,
                    4,
                    4,
                    4,
                    4,
                    4,
                    8,
                    8,
                    8,
                    8,
                    8,
                    8,
                    8,
                    8,
                    8,
                    3,
                    8,
                    8,
                    8,
                    8,
                    4,
                    4,
                    4,
                    4,
                    4,
                    4,
                    4,
                    4,
                    4,
                    8,
                    8,
                    8,
                    8,
                    8,
                    8,
                    8,
                    8,
                    8,
                    8,
                    8,
                    8,
                    6,
                    6,
                    6,
                    6,
                    6,
                    4,
                    8,
                    8,
                    8,
                    8,
                    6,
                    4,
                    4,
                    4,
                    3,
                    4,
                    6,
                    4,
                    8,
                    8,
                    4,
                    4,
                    4,
                    4,
                    8,
                    4,
                    6,
                    8,
                    6,
                    6,
                    6,
                    4,
                    4,
                    4,
                    4,
                    6,
                    6,
                    6,
                    8,
                    8,
                    8,
                    8,
                    8,
                    4,
                    4,
                    4,
                    4,
                    4,
                    4,
                    4,
                    4,
                    4,
                    4,
                    4,
                    6,
                    6,
                    6,
                    6,
                    8,
                    8,
                    8,
                    8,
                    6,
                    6,
                    6,
                    6,
                    6,
                    8,
                    8,
                    4,
                    4,
                    6,
                    4,
                    4,
                    4,
                    4,
                    6,
                    4,
                    6,
                    4,
                    4,
                    4,
                    4,
                    4,
                    4,
                    4,
                    4,
                    4,
                    4,
                    8,
                    8,
                    8,
                    8,
                    6,
                    6,
                    6,
                    6,
                    4,
                    4,
                    4,
                    4,
                    6,
                    6,
                    6,
                    6,
                    4,
                    4,
                    4,
                    4,
                    4,
                    8,
                    4,
                    6,
                    6,
                    8,
                    8,
                    8,
                    8,
                    4,
                    4,
                    4,
                    4,
                    4,
                    8,
                    8,
                    8,
                    8,
                    6,
                    6,
                    6,
                    6,
                    8,
                    8,
                    8,
                    8,
                    4,
                    4,
                    4,
                    4,
                    4,
                    4,
                    4,
                    4,
                    6,
                    4,
                    3,
                    4,
                    4,
                    4,
                    4,
                    4,
                    8,
                    8,
                    8,
                    6,
                    6,
                    6,
                    4,
                    6,
                    6,
                    6,
                    6,
                    6,
                    6,
                    8,
                    6,
                    8,
                    8,
                    4,
                    4,
                    4,
                    4,
                    4,
                    4,
                    4,
                    4,
                    5,
                    6,
                    4,
                    6,
                    4,
                    4,
                    6,
                    6,
                    4,
                    6,
                    6,
                    8,
                    8,
                    8,
                    8,
                    8,
                    8,
                    8,
                    8,
                    4,
                    4,
                    4,
                    4,
                    5,
                    8,
                    4,
                    8,
                    4,
                    4,
                    4,
                    4,
                    4,
                    6,
                    6,
                    4,
                    4,
                    4,
                    4,
                    4,
                    4,
                    4,
                    4,
                    6,
                    4,
                    4,
                    4,
                    4,
                    4,
                    4,
                    4,
                    4,
                    4,
                    4,
                    5,
                    4,
                    4,
                    4,
                    4,
                    6,
                    3,
                    4,
                    4,
                    4,
                    4,
                    4,
                    6,
                    4,
                    4,
                    4,
                    4,
                    4,
                    4,
                    4,
                    4,
                    4,
                    4,
                    4,
                    4,
                    4,
                    4,
                    4,
                    4,
                    4,
                    6,
                    6,
                    6,
                    6,
                    8,
                    6,
                    6,
                    4,
                    4,
                    4,
                    4,
                    4,
                    4,
                    4,
                    4,
                    4,
                    4,
                    4,
                    4,
                    4,
                    4,
                    4,
                    4,
                    4,
                    4,
                    6,
                    6,
                    4,
                    6,
                    4,
                    4,
                    4,
                    4,
                    4,
                    4,
                    4,
                    4
                  ],
                  "x0": " ",
                  "xaxis": "x",
                  "y": [
                    18,
                    15,
                    18,
                    16,
                    17,
                    15,
                    14,
                    14,
                    14,
                    15,
                    15,
                    14,
                    15,
                    14,
                    24,
                    22,
                    18,
                    21,
                    27,
                    26,
                    25,
                    24,
                    25,
                    26,
                    21,
                    10,
                    10,
                    11,
                    9,
                    27,
                    28,
                    25,
                    19,
                    16,
                    17,
                    19,
                    18,
                    14,
                    14,
                    14,
                    14,
                    12,
                    13,
                    13,
                    18,
                    22,
                    19,
                    18,
                    23,
                    28,
                    30,
                    30,
                    31,
                    35,
                    27,
                    26,
                    24,
                    25,
                    23,
                    20,
                    21,
                    13,
                    14,
                    15,
                    14,
                    17,
                    11,
                    13,
                    12,
                    13,
                    19,
                    15,
                    13,
                    13,
                    14,
                    18,
                    22,
                    21,
                    26,
                    22,
                    28,
                    23,
                    28,
                    27,
                    13,
                    14,
                    13,
                    14,
                    15,
                    12,
                    13,
                    13,
                    14,
                    13,
                    12,
                    13,
                    18,
                    16,
                    18,
                    18,
                    23,
                    26,
                    11,
                    12,
                    13,
                    12,
                    18,
                    20,
                    21,
                    22,
                    18,
                    19,
                    21,
                    26,
                    15,
                    16,
                    29,
                    24,
                    20,
                    19,
                    15,
                    24,
                    20,
                    11,
                    20,
                    19,
                    15,
                    31,
                    26,
                    32,
                    25,
                    16,
                    16,
                    18,
                    16,
                    13,
                    14,
                    14,
                    14,
                    29,
                    26,
                    26,
                    31,
                    32,
                    28,
                    24,
                    26,
                    24,
                    26,
                    31,
                    19,
                    18,
                    15,
                    15,
                    16,
                    15,
                    16,
                    14,
                    17,
                    16,
                    15,
                    18,
                    21,
                    20,
                    13,
                    29,
                    23,
                    20,
                    23,
                    24,
                    25,
                    24,
                    18,
                    29,
                    19,
                    23,
                    23,
                    22,
                    25,
                    33,
                    28,
                    25,
                    25,
                    26,
                    27,
                    17.5,
                    16,
                    15.5,
                    14.5,
                    22,
                    22,
                    24,
                    22.5,
                    29,
                    24.5,
                    29,
                    33,
                    20,
                    18,
                    18.5,
                    17.5,
                    29.5,
                    32,
                    28,
                    26.5,
                    20,
                    13,
                    19,
                    19,
                    16.5,
                    16.5,
                    13,
                    13,
                    13,
                    31.5,
                    30,
                    36,
                    25.5,
                    33.5,
                    17.5,
                    17,
                    15.5,
                    15,
                    17.5,
                    20.5,
                    19,
                    18.5,
                    16,
                    15.5,
                    15.5,
                    16,
                    29,
                    24.5,
                    26,
                    25.5,
                    30.5,
                    33.5,
                    30,
                    30.5,
                    22,
                    21.5,
                    21.5,
                    43.1,
                    36.1,
                    32.8,
                    39.4,
                    36.1,
                    19.9,
                    19.4,
                    20.2,
                    19.2,
                    20.5,
                    20.2,
                    25.1,
                    20.5,
                    19.4,
                    20.6,
                    20.8,
                    18.6,
                    18.1,
                    19.2,
                    17.7,
                    18.1,
                    17.5,
                    30,
                    27.5,
                    27.2,
                    30.9,
                    21.1,
                    23.2,
                    23.8,
                    23.9,
                    20.3,
                    17,
                    21.6,
                    16.2,
                    31.5,
                    29.5,
                    21.5,
                    19.8,
                    22.3,
                    20.2,
                    20.6,
                    17,
                    17.6,
                    16.5,
                    18.2,
                    16.9,
                    15.5,
                    19.2,
                    18.5,
                    31.9,
                    34.1,
                    35.7,
                    27.4,
                    25.4,
                    23,
                    27.2,
                    23.9,
                    34.2,
                    34.5,
                    31.8,
                    37.3,
                    28.4,
                    28.8,
                    26.8,
                    33.5,
                    41.5,
                    38.1,
                    32.1,
                    37.2,
                    28,
                    26.4,
                    24.3,
                    19.1,
                    34.3,
                    29.8,
                    31.3,
                    37,
                    32.2,
                    46.6,
                    27.9,
                    40.8,
                    44.3,
                    43.4,
                    36.4,
                    30,
                    44.6,
                    33.8,
                    29.8,
                    32.7,
                    23.7,
                    35,
                    32.4,
                    27.2,
                    26.6,
                    25.8,
                    23.5,
                    30,
                    39.1,
                    39,
                    35.1,
                    32.3,
                    37,
                    37.7,
                    34.1,
                    34.7,
                    34.4,
                    29.9,
                    33,
                    33.7,
                    32.4,
                    32.9,
                    31.6,
                    28.1,
                    30.7,
                    25.4,
                    24.2,
                    22.4,
                    26.6,
                    20.2,
                    17.6,
                    28,
                    27,
                    34,
                    31,
                    29,
                    27,
                    24,
                    36,
                    37,
                    31,
                    38,
                    36,
                    36,
                    36,
                    34,
                    38,
                    32,
                    38,
                    25,
                    38,
                    26,
                    22,
                    32,
                    36,
                    27,
                    27,
                    44,
                    32,
                    28,
                    31
                  ],
                  "y0": " ",
                  "yaxis": "y"
                }
              ],
              "layout": {
                "boxmode": "group",
                "legend": {
                  "tracegroupgap": 0
                },
                "margin": {
                  "t": 60
                },
                "template": {
                  "data": {
                    "bar": [
                      {
                        "error_x": {
                          "color": "#2a3f5f"
                        },
                        "error_y": {
                          "color": "#2a3f5f"
                        },
                        "marker": {
                          "line": {
                            "color": "#E5ECF6",
                            "width": 0.5
                          },
                          "pattern": {
                            "fillmode": "overlay",
                            "size": 10,
                            "solidity": 0.2
                          }
                        },
                        "type": "bar"
                      }
                    ],
                    "barpolar": [
                      {
                        "marker": {
                          "line": {
                            "color": "#E5ECF6",
                            "width": 0.5
                          },
                          "pattern": {
                            "fillmode": "overlay",
                            "size": 10,
                            "solidity": 0.2
                          }
                        },
                        "type": "barpolar"
                      }
                    ],
                    "carpet": [
                      {
                        "aaxis": {
                          "endlinecolor": "#2a3f5f",
                          "gridcolor": "white",
                          "linecolor": "white",
                          "minorgridcolor": "white",
                          "startlinecolor": "#2a3f5f"
                        },
                        "baxis": {
                          "endlinecolor": "#2a3f5f",
                          "gridcolor": "white",
                          "linecolor": "white",
                          "minorgridcolor": "white",
                          "startlinecolor": "#2a3f5f"
                        },
                        "type": "carpet"
                      }
                    ],
                    "choropleth": [
                      {
                        "colorbar": {
                          "outlinewidth": 0,
                          "ticks": ""
                        },
                        "type": "choropleth"
                      }
                    ],
                    "contour": [
                      {
                        "colorbar": {
                          "outlinewidth": 0,
                          "ticks": ""
                        },
                        "colorscale": [
                          [
                            0,
                            "#0d0887"
                          ],
                          [
                            0.1111111111111111,
                            "#46039f"
                          ],
                          [
                            0.2222222222222222,
                            "#7201a8"
                          ],
                          [
                            0.3333333333333333,
                            "#9c179e"
                          ],
                          [
                            0.4444444444444444,
                            "#bd3786"
                          ],
                          [
                            0.5555555555555556,
                            "#d8576b"
                          ],
                          [
                            0.6666666666666666,
                            "#ed7953"
                          ],
                          [
                            0.7777777777777778,
                            "#fb9f3a"
                          ],
                          [
                            0.8888888888888888,
                            "#fdca26"
                          ],
                          [
                            1,
                            "#f0f921"
                          ]
                        ],
                        "type": "contour"
                      }
                    ],
                    "contourcarpet": [
                      {
                        "colorbar": {
                          "outlinewidth": 0,
                          "ticks": ""
                        },
                        "type": "contourcarpet"
                      }
                    ],
                    "heatmap": [
                      {
                        "colorbar": {
                          "outlinewidth": 0,
                          "ticks": ""
                        },
                        "colorscale": [
                          [
                            0,
                            "#0d0887"
                          ],
                          [
                            0.1111111111111111,
                            "#46039f"
                          ],
                          [
                            0.2222222222222222,
                            "#7201a8"
                          ],
                          [
                            0.3333333333333333,
                            "#9c179e"
                          ],
                          [
                            0.4444444444444444,
                            "#bd3786"
                          ],
                          [
                            0.5555555555555556,
                            "#d8576b"
                          ],
                          [
                            0.6666666666666666,
                            "#ed7953"
                          ],
                          [
                            0.7777777777777778,
                            "#fb9f3a"
                          ],
                          [
                            0.8888888888888888,
                            "#fdca26"
                          ],
                          [
                            1,
                            "#f0f921"
                          ]
                        ],
                        "type": "heatmap"
                      }
                    ],
                    "heatmapgl": [
                      {
                        "colorbar": {
                          "outlinewidth": 0,
                          "ticks": ""
                        },
                        "colorscale": [
                          [
                            0,
                            "#0d0887"
                          ],
                          [
                            0.1111111111111111,
                            "#46039f"
                          ],
                          [
                            0.2222222222222222,
                            "#7201a8"
                          ],
                          [
                            0.3333333333333333,
                            "#9c179e"
                          ],
                          [
                            0.4444444444444444,
                            "#bd3786"
                          ],
                          [
                            0.5555555555555556,
                            "#d8576b"
                          ],
                          [
                            0.6666666666666666,
                            "#ed7953"
                          ],
                          [
                            0.7777777777777778,
                            "#fb9f3a"
                          ],
                          [
                            0.8888888888888888,
                            "#fdca26"
                          ],
                          [
                            1,
                            "#f0f921"
                          ]
                        ],
                        "type": "heatmapgl"
                      }
                    ],
                    "histogram": [
                      {
                        "marker": {
                          "pattern": {
                            "fillmode": "overlay",
                            "size": 10,
                            "solidity": 0.2
                          }
                        },
                        "type": "histogram"
                      }
                    ],
                    "histogram2d": [
                      {
                        "colorbar": {
                          "outlinewidth": 0,
                          "ticks": ""
                        },
                        "colorscale": [
                          [
                            0,
                            "#0d0887"
                          ],
                          [
                            0.1111111111111111,
                            "#46039f"
                          ],
                          [
                            0.2222222222222222,
                            "#7201a8"
                          ],
                          [
                            0.3333333333333333,
                            "#9c179e"
                          ],
                          [
                            0.4444444444444444,
                            "#bd3786"
                          ],
                          [
                            0.5555555555555556,
                            "#d8576b"
                          ],
                          [
                            0.6666666666666666,
                            "#ed7953"
                          ],
                          [
                            0.7777777777777778,
                            "#fb9f3a"
                          ],
                          [
                            0.8888888888888888,
                            "#fdca26"
                          ],
                          [
                            1,
                            "#f0f921"
                          ]
                        ],
                        "type": "histogram2d"
                      }
                    ],
                    "histogram2dcontour": [
                      {
                        "colorbar": {
                          "outlinewidth": 0,
                          "ticks": ""
                        },
                        "colorscale": [
                          [
                            0,
                            "#0d0887"
                          ],
                          [
                            0.1111111111111111,
                            "#46039f"
                          ],
                          [
                            0.2222222222222222,
                            "#7201a8"
                          ],
                          [
                            0.3333333333333333,
                            "#9c179e"
                          ],
                          [
                            0.4444444444444444,
                            "#bd3786"
                          ],
                          [
                            0.5555555555555556,
                            "#d8576b"
                          ],
                          [
                            0.6666666666666666,
                            "#ed7953"
                          ],
                          [
                            0.7777777777777778,
                            "#fb9f3a"
                          ],
                          [
                            0.8888888888888888,
                            "#fdca26"
                          ],
                          [
                            1,
                            "#f0f921"
                          ]
                        ],
                        "type": "histogram2dcontour"
                      }
                    ],
                    "mesh3d": [
                      {
                        "colorbar": {
                          "outlinewidth": 0,
                          "ticks": ""
                        },
                        "type": "mesh3d"
                      }
                    ],
                    "parcoords": [
                      {
                        "line": {
                          "colorbar": {
                            "outlinewidth": 0,
                            "ticks": ""
                          }
                        },
                        "type": "parcoords"
                      }
                    ],
                    "pie": [
                      {
                        "automargin": true,
                        "type": "pie"
                      }
                    ],
                    "scatter": [
                      {
                        "fillpattern": {
                          "fillmode": "overlay",
                          "size": 10,
                          "solidity": 0.2
                        },
                        "type": "scatter"
                      }
                    ],
                    "scatter3d": [
                      {
                        "line": {
                          "colorbar": {
                            "outlinewidth": 0,
                            "ticks": ""
                          }
                        },
                        "marker": {
                          "colorbar": {
                            "outlinewidth": 0,
                            "ticks": ""
                          }
                        },
                        "type": "scatter3d"
                      }
                    ],
                    "scattercarpet": [
                      {
                        "marker": {
                          "colorbar": {
                            "outlinewidth": 0,
                            "ticks": ""
                          }
                        },
                        "type": "scattercarpet"
                      }
                    ],
                    "scattergeo": [
                      {
                        "marker": {
                          "colorbar": {
                            "outlinewidth": 0,
                            "ticks": ""
                          }
                        },
                        "type": "scattergeo"
                      }
                    ],
                    "scattergl": [
                      {
                        "marker": {
                          "colorbar": {
                            "outlinewidth": 0,
                            "ticks": ""
                          }
                        },
                        "type": "scattergl"
                      }
                    ],
                    "scattermapbox": [
                      {
                        "marker": {
                          "colorbar": {
                            "outlinewidth": 0,
                            "ticks": ""
                          }
                        },
                        "type": "scattermapbox"
                      }
                    ],
                    "scatterpolar": [
                      {
                        "marker": {
                          "colorbar": {
                            "outlinewidth": 0,
                            "ticks": ""
                          }
                        },
                        "type": "scatterpolar"
                      }
                    ],
                    "scatterpolargl": [
                      {
                        "marker": {
                          "colorbar": {
                            "outlinewidth": 0,
                            "ticks": ""
                          }
                        },
                        "type": "scatterpolargl"
                      }
                    ],
                    "scatterternary": [
                      {
                        "marker": {
                          "colorbar": {
                            "outlinewidth": 0,
                            "ticks": ""
                          }
                        },
                        "type": "scatterternary"
                      }
                    ],
                    "surface": [
                      {
                        "colorbar": {
                          "outlinewidth": 0,
                          "ticks": ""
                        },
                        "colorscale": [
                          [
                            0,
                            "#0d0887"
                          ],
                          [
                            0.1111111111111111,
                            "#46039f"
                          ],
                          [
                            0.2222222222222222,
                            "#7201a8"
                          ],
                          [
                            0.3333333333333333,
                            "#9c179e"
                          ],
                          [
                            0.4444444444444444,
                            "#bd3786"
                          ],
                          [
                            0.5555555555555556,
                            "#d8576b"
                          ],
                          [
                            0.6666666666666666,
                            "#ed7953"
                          ],
                          [
                            0.7777777777777778,
                            "#fb9f3a"
                          ],
                          [
                            0.8888888888888888,
                            "#fdca26"
                          ],
                          [
                            1,
                            "#f0f921"
                          ]
                        ],
                        "type": "surface"
                      }
                    ],
                    "table": [
                      {
                        "cells": {
                          "fill": {
                            "color": "#EBF0F8"
                          },
                          "line": {
                            "color": "white"
                          }
                        },
                        "header": {
                          "fill": {
                            "color": "#C8D4E3"
                          },
                          "line": {
                            "color": "white"
                          }
                        },
                        "type": "table"
                      }
                    ]
                  },
                  "layout": {
                    "annotationdefaults": {
                      "arrowcolor": "#2a3f5f",
                      "arrowhead": 0,
                      "arrowwidth": 1
                    },
                    "autotypenumbers": "strict",
                    "coloraxis": {
                      "colorbar": {
                        "outlinewidth": 0,
                        "ticks": ""
                      }
                    },
                    "colorscale": {
                      "diverging": [
                        [
                          0,
                          "#8e0152"
                        ],
                        [
                          0.1,
                          "#c51b7d"
                        ],
                        [
                          0.2,
                          "#de77ae"
                        ],
                        [
                          0.3,
                          "#f1b6da"
                        ],
                        [
                          0.4,
                          "#fde0ef"
                        ],
                        [
                          0.5,
                          "#f7f7f7"
                        ],
                        [
                          0.6,
                          "#e6f5d0"
                        ],
                        [
                          0.7,
                          "#b8e186"
                        ],
                        [
                          0.8,
                          "#7fbc41"
                        ],
                        [
                          0.9,
                          "#4d9221"
                        ],
                        [
                          1,
                          "#276419"
                        ]
                      ],
                      "sequential": [
                        [
                          0,
                          "#0d0887"
                        ],
                        [
                          0.1111111111111111,
                          "#46039f"
                        ],
                        [
                          0.2222222222222222,
                          "#7201a8"
                        ],
                        [
                          0.3333333333333333,
                          "#9c179e"
                        ],
                        [
                          0.4444444444444444,
                          "#bd3786"
                        ],
                        [
                          0.5555555555555556,
                          "#d8576b"
                        ],
                        [
                          0.6666666666666666,
                          "#ed7953"
                        ],
                        [
                          0.7777777777777778,
                          "#fb9f3a"
                        ],
                        [
                          0.8888888888888888,
                          "#fdca26"
                        ],
                        [
                          1,
                          "#f0f921"
                        ]
                      ],
                      "sequentialminus": [
                        [
                          0,
                          "#0d0887"
                        ],
                        [
                          0.1111111111111111,
                          "#46039f"
                        ],
                        [
                          0.2222222222222222,
                          "#7201a8"
                        ],
                        [
                          0.3333333333333333,
                          "#9c179e"
                        ],
                        [
                          0.4444444444444444,
                          "#bd3786"
                        ],
                        [
                          0.5555555555555556,
                          "#d8576b"
                        ],
                        [
                          0.6666666666666666,
                          "#ed7953"
                        ],
                        [
                          0.7777777777777778,
                          "#fb9f3a"
                        ],
                        [
                          0.8888888888888888,
                          "#fdca26"
                        ],
                        [
                          1,
                          "#f0f921"
                        ]
                      ]
                    },
                    "colorway": [
                      "#636efa",
                      "#EF553B",
                      "#00cc96",
                      "#ab63fa",
                      "#FFA15A",
                      "#19d3f3",
                      "#FF6692",
                      "#B6E880",
                      "#FF97FF",
                      "#FECB52"
                    ],
                    "font": {
                      "color": "#2a3f5f"
                    },
                    "geo": {
                      "bgcolor": "white",
                      "lakecolor": "white",
                      "landcolor": "#E5ECF6",
                      "showlakes": true,
                      "showland": true,
                      "subunitcolor": "white"
                    },
                    "hoverlabel": {
                      "align": "left"
                    },
                    "hovermode": "closest",
                    "mapbox": {
                      "style": "light"
                    },
                    "paper_bgcolor": "white",
                    "plot_bgcolor": "#E5ECF6",
                    "polar": {
                      "angularaxis": {
                        "gridcolor": "white",
                        "linecolor": "white",
                        "ticks": ""
                      },
                      "bgcolor": "#E5ECF6",
                      "radialaxis": {
                        "gridcolor": "white",
                        "linecolor": "white",
                        "ticks": ""
                      }
                    },
                    "scene": {
                      "xaxis": {
                        "backgroundcolor": "#E5ECF6",
                        "gridcolor": "white",
                        "gridwidth": 2,
                        "linecolor": "white",
                        "showbackground": true,
                        "ticks": "",
                        "zerolinecolor": "white"
                      },
                      "yaxis": {
                        "backgroundcolor": "#E5ECF6",
                        "gridcolor": "white",
                        "gridwidth": 2,
                        "linecolor": "white",
                        "showbackground": true,
                        "ticks": "",
                        "zerolinecolor": "white"
                      },
                      "zaxis": {
                        "backgroundcolor": "#E5ECF6",
                        "gridcolor": "white",
                        "gridwidth": 2,
                        "linecolor": "white",
                        "showbackground": true,
                        "ticks": "",
                        "zerolinecolor": "white"
                      }
                    },
                    "shapedefaults": {
                      "line": {
                        "color": "#2a3f5f"
                      }
                    },
                    "ternary": {
                      "aaxis": {
                        "gridcolor": "white",
                        "linecolor": "white",
                        "ticks": ""
                      },
                      "baxis": {
                        "gridcolor": "white",
                        "linecolor": "white",
                        "ticks": ""
                      },
                      "bgcolor": "#E5ECF6",
                      "caxis": {
                        "gridcolor": "white",
                        "linecolor": "white",
                        "ticks": ""
                      }
                    },
                    "title": {
                      "x": 0.05
                    },
                    "xaxis": {
                      "automargin": true,
                      "gridcolor": "white",
                      "linecolor": "white",
                      "ticks": "",
                      "title": {
                        "standoff": 15
                      },
                      "zerolinecolor": "white",
                      "zerolinewidth": 2
                    },
                    "yaxis": {
                      "automargin": true,
                      "gridcolor": "white",
                      "linecolor": "white",
                      "ticks": "",
                      "title": {
                        "standoff": 15
                      },
                      "zerolinecolor": "white",
                      "zerolinewidth": 2
                    }
                  }
                },
                "xaxis": {
                  "anchor": "y",
                  "domain": [
                    0,
                    1
                  ],
                  "title": {
                    "text": "cylinders"
                  }
                },
                "yaxis": {
                  "anchor": "x",
                  "domain": [
                    0,
                    1
                  ],
                  "title": {
                    "text": "mpg"
                  }
                }
              }
            }
          },
          "metadata": {},
          "output_type": "display_data"
        }
      ],
      "source": [
        "import plotly.express as px\n",
        "\n",
        "df.cylinders = pd.Series(df.cylinders, dtype=\"category\")\n",
        "fig = px.box(df, x=\"cylinders\", y=\"mpg\")\n",
        "fig.show()"
      ]
    },
    {
      "cell_type": "code",
      "execution_count": 34,
      "metadata": {},
      "outputs": [
        {
          "data": {
            "application/vnd.plotly.v1+json": {
              "config": {
                "plotlyServerURL": "https://plot.ly"
              },
              "data": [
                {
                  "alignmentgroup": "True",
                  "bingroup": "x",
                  "hovertemplate": "mpg=%{x}<br>count=%{y}<extra></extra>",
                  "legendgroup": "",
                  "marker": {
                    "color": "#636efa",
                    "pattern": {
                      "shape": ""
                    }
                  },
                  "name": "",
                  "nbinsx": 12,
                  "offsetgroup": "",
                  "orientation": "v",
                  "showlegend": false,
                  "type": "histogram",
                  "x": [
                    18,
                    15,
                    18,
                    16,
                    17,
                    15,
                    14,
                    14,
                    14,
                    15,
                    15,
                    14,
                    15,
                    14,
                    24,
                    22,
                    18,
                    21,
                    27,
                    26,
                    25,
                    24,
                    25,
                    26,
                    21,
                    10,
                    10,
                    11,
                    9,
                    27,
                    28,
                    25,
                    19,
                    16,
                    17,
                    19,
                    18,
                    14,
                    14,
                    14,
                    14,
                    12,
                    13,
                    13,
                    18,
                    22,
                    19,
                    18,
                    23,
                    28,
                    30,
                    30,
                    31,
                    35,
                    27,
                    26,
                    24,
                    25,
                    23,
                    20,
                    21,
                    13,
                    14,
                    15,
                    14,
                    17,
                    11,
                    13,
                    12,
                    13,
                    19,
                    15,
                    13,
                    13,
                    14,
                    18,
                    22,
                    21,
                    26,
                    22,
                    28,
                    23,
                    28,
                    27,
                    13,
                    14,
                    13,
                    14,
                    15,
                    12,
                    13,
                    13,
                    14,
                    13,
                    12,
                    13,
                    18,
                    16,
                    18,
                    18,
                    23,
                    26,
                    11,
                    12,
                    13,
                    12,
                    18,
                    20,
                    21,
                    22,
                    18,
                    19,
                    21,
                    26,
                    15,
                    16,
                    29,
                    24,
                    20,
                    19,
                    15,
                    24,
                    20,
                    11,
                    20,
                    19,
                    15,
                    31,
                    26,
                    32,
                    25,
                    16,
                    16,
                    18,
                    16,
                    13,
                    14,
                    14,
                    14,
                    29,
                    26,
                    26,
                    31,
                    32,
                    28,
                    24,
                    26,
                    24,
                    26,
                    31,
                    19,
                    18,
                    15,
                    15,
                    16,
                    15,
                    16,
                    14,
                    17,
                    16,
                    15,
                    18,
                    21,
                    20,
                    13,
                    29,
                    23,
                    20,
                    23,
                    24,
                    25,
                    24,
                    18,
                    29,
                    19,
                    23,
                    23,
                    22,
                    25,
                    33,
                    28,
                    25,
                    25,
                    26,
                    27,
                    17.5,
                    16,
                    15.5,
                    14.5,
                    22,
                    22,
                    24,
                    22.5,
                    29,
                    24.5,
                    29,
                    33,
                    20,
                    18,
                    18.5,
                    17.5,
                    29.5,
                    32,
                    28,
                    26.5,
                    20,
                    13,
                    19,
                    19,
                    16.5,
                    16.5,
                    13,
                    13,
                    13,
                    31.5,
                    30,
                    36,
                    25.5,
                    33.5,
                    17.5,
                    17,
                    15.5,
                    15,
                    17.5,
                    20.5,
                    19,
                    18.5,
                    16,
                    15.5,
                    15.5,
                    16,
                    29,
                    24.5,
                    26,
                    25.5,
                    30.5,
                    33.5,
                    30,
                    30.5,
                    22,
                    21.5,
                    21.5,
                    43.1,
                    36.1,
                    32.8,
                    39.4,
                    36.1,
                    19.9,
                    19.4,
                    20.2,
                    19.2,
                    20.5,
                    20.2,
                    25.1,
                    20.5,
                    19.4,
                    20.6,
                    20.8,
                    18.6,
                    18.1,
                    19.2,
                    17.7,
                    18.1,
                    17.5,
                    30,
                    27.5,
                    27.2,
                    30.9,
                    21.1,
                    23.2,
                    23.8,
                    23.9,
                    20.3,
                    17,
                    21.6,
                    16.2,
                    31.5,
                    29.5,
                    21.5,
                    19.8,
                    22.3,
                    20.2,
                    20.6,
                    17,
                    17.6,
                    16.5,
                    18.2,
                    16.9,
                    15.5,
                    19.2,
                    18.5,
                    31.9,
                    34.1,
                    35.7,
                    27.4,
                    25.4,
                    23,
                    27.2,
                    23.9,
                    34.2,
                    34.5,
                    31.8,
                    37.3,
                    28.4,
                    28.8,
                    26.8,
                    33.5,
                    41.5,
                    38.1,
                    32.1,
                    37.2,
                    28,
                    26.4,
                    24.3,
                    19.1,
                    34.3,
                    29.8,
                    31.3,
                    37,
                    32.2,
                    46.6,
                    27.9,
                    40.8,
                    44.3,
                    43.4,
                    36.4,
                    30,
                    44.6,
                    33.8,
                    29.8,
                    32.7,
                    23.7,
                    35,
                    32.4,
                    27.2,
                    26.6,
                    25.8,
                    23.5,
                    30,
                    39.1,
                    39,
                    35.1,
                    32.3,
                    37,
                    37.7,
                    34.1,
                    34.7,
                    34.4,
                    29.9,
                    33,
                    33.7,
                    32.4,
                    32.9,
                    31.6,
                    28.1,
                    30.7,
                    25.4,
                    24.2,
                    22.4,
                    26.6,
                    20.2,
                    17.6,
                    28,
                    27,
                    34,
                    31,
                    29,
                    27,
                    24,
                    36,
                    37,
                    31,
                    38,
                    36,
                    36,
                    36,
                    34,
                    38,
                    32,
                    38,
                    25,
                    38,
                    26,
                    22,
                    32,
                    36,
                    27,
                    27,
                    44,
                    32,
                    28,
                    31
                  ],
                  "xaxis": "x",
                  "yaxis": "y"
                }
              ],
              "layout": {
                "barmode": "relative",
                "legend": {
                  "tracegroupgap": 0
                },
                "margin": {
                  "t": 60
                },
                "template": {
                  "data": {
                    "bar": [
                      {
                        "error_x": {
                          "color": "#2a3f5f"
                        },
                        "error_y": {
                          "color": "#2a3f5f"
                        },
                        "marker": {
                          "line": {
                            "color": "#E5ECF6",
                            "width": 0.5
                          },
                          "pattern": {
                            "fillmode": "overlay",
                            "size": 10,
                            "solidity": 0.2
                          }
                        },
                        "type": "bar"
                      }
                    ],
                    "barpolar": [
                      {
                        "marker": {
                          "line": {
                            "color": "#E5ECF6",
                            "width": 0.5
                          },
                          "pattern": {
                            "fillmode": "overlay",
                            "size": 10,
                            "solidity": 0.2
                          }
                        },
                        "type": "barpolar"
                      }
                    ],
                    "carpet": [
                      {
                        "aaxis": {
                          "endlinecolor": "#2a3f5f",
                          "gridcolor": "white",
                          "linecolor": "white",
                          "minorgridcolor": "white",
                          "startlinecolor": "#2a3f5f"
                        },
                        "baxis": {
                          "endlinecolor": "#2a3f5f",
                          "gridcolor": "white",
                          "linecolor": "white",
                          "minorgridcolor": "white",
                          "startlinecolor": "#2a3f5f"
                        },
                        "type": "carpet"
                      }
                    ],
                    "choropleth": [
                      {
                        "colorbar": {
                          "outlinewidth": 0,
                          "ticks": ""
                        },
                        "type": "choropleth"
                      }
                    ],
                    "contour": [
                      {
                        "colorbar": {
                          "outlinewidth": 0,
                          "ticks": ""
                        },
                        "colorscale": [
                          [
                            0,
                            "#0d0887"
                          ],
                          [
                            0.1111111111111111,
                            "#46039f"
                          ],
                          [
                            0.2222222222222222,
                            "#7201a8"
                          ],
                          [
                            0.3333333333333333,
                            "#9c179e"
                          ],
                          [
                            0.4444444444444444,
                            "#bd3786"
                          ],
                          [
                            0.5555555555555556,
                            "#d8576b"
                          ],
                          [
                            0.6666666666666666,
                            "#ed7953"
                          ],
                          [
                            0.7777777777777778,
                            "#fb9f3a"
                          ],
                          [
                            0.8888888888888888,
                            "#fdca26"
                          ],
                          [
                            1,
                            "#f0f921"
                          ]
                        ],
                        "type": "contour"
                      }
                    ],
                    "contourcarpet": [
                      {
                        "colorbar": {
                          "outlinewidth": 0,
                          "ticks": ""
                        },
                        "type": "contourcarpet"
                      }
                    ],
                    "heatmap": [
                      {
                        "colorbar": {
                          "outlinewidth": 0,
                          "ticks": ""
                        },
                        "colorscale": [
                          [
                            0,
                            "#0d0887"
                          ],
                          [
                            0.1111111111111111,
                            "#46039f"
                          ],
                          [
                            0.2222222222222222,
                            "#7201a8"
                          ],
                          [
                            0.3333333333333333,
                            "#9c179e"
                          ],
                          [
                            0.4444444444444444,
                            "#bd3786"
                          ],
                          [
                            0.5555555555555556,
                            "#d8576b"
                          ],
                          [
                            0.6666666666666666,
                            "#ed7953"
                          ],
                          [
                            0.7777777777777778,
                            "#fb9f3a"
                          ],
                          [
                            0.8888888888888888,
                            "#fdca26"
                          ],
                          [
                            1,
                            "#f0f921"
                          ]
                        ],
                        "type": "heatmap"
                      }
                    ],
                    "heatmapgl": [
                      {
                        "colorbar": {
                          "outlinewidth": 0,
                          "ticks": ""
                        },
                        "colorscale": [
                          [
                            0,
                            "#0d0887"
                          ],
                          [
                            0.1111111111111111,
                            "#46039f"
                          ],
                          [
                            0.2222222222222222,
                            "#7201a8"
                          ],
                          [
                            0.3333333333333333,
                            "#9c179e"
                          ],
                          [
                            0.4444444444444444,
                            "#bd3786"
                          ],
                          [
                            0.5555555555555556,
                            "#d8576b"
                          ],
                          [
                            0.6666666666666666,
                            "#ed7953"
                          ],
                          [
                            0.7777777777777778,
                            "#fb9f3a"
                          ],
                          [
                            0.8888888888888888,
                            "#fdca26"
                          ],
                          [
                            1,
                            "#f0f921"
                          ]
                        ],
                        "type": "heatmapgl"
                      }
                    ],
                    "histogram": [
                      {
                        "marker": {
                          "pattern": {
                            "fillmode": "overlay",
                            "size": 10,
                            "solidity": 0.2
                          }
                        },
                        "type": "histogram"
                      }
                    ],
                    "histogram2d": [
                      {
                        "colorbar": {
                          "outlinewidth": 0,
                          "ticks": ""
                        },
                        "colorscale": [
                          [
                            0,
                            "#0d0887"
                          ],
                          [
                            0.1111111111111111,
                            "#46039f"
                          ],
                          [
                            0.2222222222222222,
                            "#7201a8"
                          ],
                          [
                            0.3333333333333333,
                            "#9c179e"
                          ],
                          [
                            0.4444444444444444,
                            "#bd3786"
                          ],
                          [
                            0.5555555555555556,
                            "#d8576b"
                          ],
                          [
                            0.6666666666666666,
                            "#ed7953"
                          ],
                          [
                            0.7777777777777778,
                            "#fb9f3a"
                          ],
                          [
                            0.8888888888888888,
                            "#fdca26"
                          ],
                          [
                            1,
                            "#f0f921"
                          ]
                        ],
                        "type": "histogram2d"
                      }
                    ],
                    "histogram2dcontour": [
                      {
                        "colorbar": {
                          "outlinewidth": 0,
                          "ticks": ""
                        },
                        "colorscale": [
                          [
                            0,
                            "#0d0887"
                          ],
                          [
                            0.1111111111111111,
                            "#46039f"
                          ],
                          [
                            0.2222222222222222,
                            "#7201a8"
                          ],
                          [
                            0.3333333333333333,
                            "#9c179e"
                          ],
                          [
                            0.4444444444444444,
                            "#bd3786"
                          ],
                          [
                            0.5555555555555556,
                            "#d8576b"
                          ],
                          [
                            0.6666666666666666,
                            "#ed7953"
                          ],
                          [
                            0.7777777777777778,
                            "#fb9f3a"
                          ],
                          [
                            0.8888888888888888,
                            "#fdca26"
                          ],
                          [
                            1,
                            "#f0f921"
                          ]
                        ],
                        "type": "histogram2dcontour"
                      }
                    ],
                    "mesh3d": [
                      {
                        "colorbar": {
                          "outlinewidth": 0,
                          "ticks": ""
                        },
                        "type": "mesh3d"
                      }
                    ],
                    "parcoords": [
                      {
                        "line": {
                          "colorbar": {
                            "outlinewidth": 0,
                            "ticks": ""
                          }
                        },
                        "type": "parcoords"
                      }
                    ],
                    "pie": [
                      {
                        "automargin": true,
                        "type": "pie"
                      }
                    ],
                    "scatter": [
                      {
                        "fillpattern": {
                          "fillmode": "overlay",
                          "size": 10,
                          "solidity": 0.2
                        },
                        "type": "scatter"
                      }
                    ],
                    "scatter3d": [
                      {
                        "line": {
                          "colorbar": {
                            "outlinewidth": 0,
                            "ticks": ""
                          }
                        },
                        "marker": {
                          "colorbar": {
                            "outlinewidth": 0,
                            "ticks": ""
                          }
                        },
                        "type": "scatter3d"
                      }
                    ],
                    "scattercarpet": [
                      {
                        "marker": {
                          "colorbar": {
                            "outlinewidth": 0,
                            "ticks": ""
                          }
                        },
                        "type": "scattercarpet"
                      }
                    ],
                    "scattergeo": [
                      {
                        "marker": {
                          "colorbar": {
                            "outlinewidth": 0,
                            "ticks": ""
                          }
                        },
                        "type": "scattergeo"
                      }
                    ],
                    "scattergl": [
                      {
                        "marker": {
                          "colorbar": {
                            "outlinewidth": 0,
                            "ticks": ""
                          }
                        },
                        "type": "scattergl"
                      }
                    ],
                    "scattermapbox": [
                      {
                        "marker": {
                          "colorbar": {
                            "outlinewidth": 0,
                            "ticks": ""
                          }
                        },
                        "type": "scattermapbox"
                      }
                    ],
                    "scatterpolar": [
                      {
                        "marker": {
                          "colorbar": {
                            "outlinewidth": 0,
                            "ticks": ""
                          }
                        },
                        "type": "scatterpolar"
                      }
                    ],
                    "scatterpolargl": [
                      {
                        "marker": {
                          "colorbar": {
                            "outlinewidth": 0,
                            "ticks": ""
                          }
                        },
                        "type": "scatterpolargl"
                      }
                    ],
                    "scatterternary": [
                      {
                        "marker": {
                          "colorbar": {
                            "outlinewidth": 0,
                            "ticks": ""
                          }
                        },
                        "type": "scatterternary"
                      }
                    ],
                    "surface": [
                      {
                        "colorbar": {
                          "outlinewidth": 0,
                          "ticks": ""
                        },
                        "colorscale": [
                          [
                            0,
                            "#0d0887"
                          ],
                          [
                            0.1111111111111111,
                            "#46039f"
                          ],
                          [
                            0.2222222222222222,
                            "#7201a8"
                          ],
                          [
                            0.3333333333333333,
                            "#9c179e"
                          ],
                          [
                            0.4444444444444444,
                            "#bd3786"
                          ],
                          [
                            0.5555555555555556,
                            "#d8576b"
                          ],
                          [
                            0.6666666666666666,
                            "#ed7953"
                          ],
                          [
                            0.7777777777777778,
                            "#fb9f3a"
                          ],
                          [
                            0.8888888888888888,
                            "#fdca26"
                          ],
                          [
                            1,
                            "#f0f921"
                          ]
                        ],
                        "type": "surface"
                      }
                    ],
                    "table": [
                      {
                        "cells": {
                          "fill": {
                            "color": "#EBF0F8"
                          },
                          "line": {
                            "color": "white"
                          }
                        },
                        "header": {
                          "fill": {
                            "color": "#C8D4E3"
                          },
                          "line": {
                            "color": "white"
                          }
                        },
                        "type": "table"
                      }
                    ]
                  },
                  "layout": {
                    "annotationdefaults": {
                      "arrowcolor": "#2a3f5f",
                      "arrowhead": 0,
                      "arrowwidth": 1
                    },
                    "autotypenumbers": "strict",
                    "coloraxis": {
                      "colorbar": {
                        "outlinewidth": 0,
                        "ticks": ""
                      }
                    },
                    "colorscale": {
                      "diverging": [
                        [
                          0,
                          "#8e0152"
                        ],
                        [
                          0.1,
                          "#c51b7d"
                        ],
                        [
                          0.2,
                          "#de77ae"
                        ],
                        [
                          0.3,
                          "#f1b6da"
                        ],
                        [
                          0.4,
                          "#fde0ef"
                        ],
                        [
                          0.5,
                          "#f7f7f7"
                        ],
                        [
                          0.6,
                          "#e6f5d0"
                        ],
                        [
                          0.7,
                          "#b8e186"
                        ],
                        [
                          0.8,
                          "#7fbc41"
                        ],
                        [
                          0.9,
                          "#4d9221"
                        ],
                        [
                          1,
                          "#276419"
                        ]
                      ],
                      "sequential": [
                        [
                          0,
                          "#0d0887"
                        ],
                        [
                          0.1111111111111111,
                          "#46039f"
                        ],
                        [
                          0.2222222222222222,
                          "#7201a8"
                        ],
                        [
                          0.3333333333333333,
                          "#9c179e"
                        ],
                        [
                          0.4444444444444444,
                          "#bd3786"
                        ],
                        [
                          0.5555555555555556,
                          "#d8576b"
                        ],
                        [
                          0.6666666666666666,
                          "#ed7953"
                        ],
                        [
                          0.7777777777777778,
                          "#fb9f3a"
                        ],
                        [
                          0.8888888888888888,
                          "#fdca26"
                        ],
                        [
                          1,
                          "#f0f921"
                        ]
                      ],
                      "sequentialminus": [
                        [
                          0,
                          "#0d0887"
                        ],
                        [
                          0.1111111111111111,
                          "#46039f"
                        ],
                        [
                          0.2222222222222222,
                          "#7201a8"
                        ],
                        [
                          0.3333333333333333,
                          "#9c179e"
                        ],
                        [
                          0.4444444444444444,
                          "#bd3786"
                        ],
                        [
                          0.5555555555555556,
                          "#d8576b"
                        ],
                        [
                          0.6666666666666666,
                          "#ed7953"
                        ],
                        [
                          0.7777777777777778,
                          "#fb9f3a"
                        ],
                        [
                          0.8888888888888888,
                          "#fdca26"
                        ],
                        [
                          1,
                          "#f0f921"
                        ]
                      ]
                    },
                    "colorway": [
                      "#636efa",
                      "#EF553B",
                      "#00cc96",
                      "#ab63fa",
                      "#FFA15A",
                      "#19d3f3",
                      "#FF6692",
                      "#B6E880",
                      "#FF97FF",
                      "#FECB52"
                    ],
                    "font": {
                      "color": "#2a3f5f"
                    },
                    "geo": {
                      "bgcolor": "white",
                      "lakecolor": "white",
                      "landcolor": "#E5ECF6",
                      "showlakes": true,
                      "showland": true,
                      "subunitcolor": "white"
                    },
                    "hoverlabel": {
                      "align": "left"
                    },
                    "hovermode": "closest",
                    "mapbox": {
                      "style": "light"
                    },
                    "paper_bgcolor": "white",
                    "plot_bgcolor": "#E5ECF6",
                    "polar": {
                      "angularaxis": {
                        "gridcolor": "white",
                        "linecolor": "white",
                        "ticks": ""
                      },
                      "bgcolor": "#E5ECF6",
                      "radialaxis": {
                        "gridcolor": "white",
                        "linecolor": "white",
                        "ticks": ""
                      }
                    },
                    "scene": {
                      "xaxis": {
                        "backgroundcolor": "#E5ECF6",
                        "gridcolor": "white",
                        "gridwidth": 2,
                        "linecolor": "white",
                        "showbackground": true,
                        "ticks": "",
                        "zerolinecolor": "white"
                      },
                      "yaxis": {
                        "backgroundcolor": "#E5ECF6",
                        "gridcolor": "white",
                        "gridwidth": 2,
                        "linecolor": "white",
                        "showbackground": true,
                        "ticks": "",
                        "zerolinecolor": "white"
                      },
                      "zaxis": {
                        "backgroundcolor": "#E5ECF6",
                        "gridcolor": "white",
                        "gridwidth": 2,
                        "linecolor": "white",
                        "showbackground": true,
                        "ticks": "",
                        "zerolinecolor": "white"
                      }
                    },
                    "shapedefaults": {
                      "line": {
                        "color": "#2a3f5f"
                      }
                    },
                    "ternary": {
                      "aaxis": {
                        "gridcolor": "white",
                        "linecolor": "white",
                        "ticks": ""
                      },
                      "baxis": {
                        "gridcolor": "white",
                        "linecolor": "white",
                        "ticks": ""
                      },
                      "bgcolor": "#E5ECF6",
                      "caxis": {
                        "gridcolor": "white",
                        "linecolor": "white",
                        "ticks": ""
                      }
                    },
                    "title": {
                      "x": 0.05
                    },
                    "xaxis": {
                      "automargin": true,
                      "gridcolor": "white",
                      "linecolor": "white",
                      "ticks": "",
                      "title": {
                        "standoff": 15
                      },
                      "zerolinecolor": "white",
                      "zerolinewidth": 2
                    },
                    "yaxis": {
                      "automargin": true,
                      "gridcolor": "white",
                      "linecolor": "white",
                      "ticks": "",
                      "title": {
                        "standoff": 15
                      },
                      "zerolinecolor": "white",
                      "zerolinewidth": 2
                    }
                  }
                },
                "xaxis": {
                  "anchor": "y",
                  "domain": [
                    0,
                    1
                  ],
                  "title": {
                    "text": "mpg"
                  }
                },
                "yaxis": {
                  "anchor": "x",
                  "domain": [
                    0,
                    1
                  ],
                  "title": {
                    "text": "count"
                  }
                }
              }
            }
          },
          "metadata": {},
          "output_type": "display_data"
        }
      ],
      "source": [
        "px.histogram(df, x=\"mpg\", nbins=12)"
      ]
    },
    {
      "cell_type": "code",
      "execution_count": 36,
      "metadata": {},
      "outputs": [
        {
          "data": {
            "image/png": "[encoded data removed]",
            "text/plain": [
              "<Figure size 640x480 with 49 Axes>"
            ]
          },
          "metadata": {},
          "output_type": "display_data"
        }
      ],
      "source": [
        "pd.plotting.scatter_matrix(df);"
      ]
    },
    {
      "cell_type": "code",
      "execution_count": null,
      "metadata": {},
      "outputs": [],
      "source": []
    }
  ],
  "metadata": {
    "kernelspec": {
      "display_name": ".venv",
      "language": "python",
      "name": "python3"
    },
    "language_info": {
      "codemirror_mode": {
        "name": "ipython",
        "version": 3
      },
      "file_extension": ".py",
      "mimetype": "text/x-python",
      "name": "python",
      "nbconvert_exporter": "python",
      "pygments_lexer": "ipython3",
      "version": "3.12.5"
    }
  },
  "nbformat": 4,
  "nbformat_minor": 2
}
